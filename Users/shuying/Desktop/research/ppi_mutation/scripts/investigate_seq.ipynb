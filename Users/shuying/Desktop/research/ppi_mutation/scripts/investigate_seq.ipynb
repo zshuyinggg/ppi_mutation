{
 "cells": [
  {
   "cell_type": "code",
   "execution_count": 1,
   "metadata": {},
   "outputs": [],
   "source": [
    "import pandas as pd \n",
    "df=pd.read_csv('/home/grads/z/zshuying/Documents/shuying/ppi_mutation/data/2019_1_sequences_terminated.csv')"
   ]
  },
  {
   "attachments": {},
   "cell_type": "markdown",
   "metadata": {},
   "source": [
    "# merge Label and label and discard empty"
   ]
  },
  {
   "cell_type": "code",
   "execution_count": 2,
   "metadata": {},
   "outputs": [
    {
     "ename": "KeyError",
     "evalue": "'label'",
     "output_type": "error",
     "traceback": [
      "\u001B[0;31m---------------------------------------------------------------------------\u001B[0m",
      "\u001B[0;31mKeyError\u001B[0m                                  Traceback (most recent call last)",
      "File \u001B[0;32m~/Downloads/ENTER/lib/python3.9/site-packages/pandas/core/indexes/base.py:3621\u001B[0m, in \u001B[0;36mIndex.get_loc\u001B[0;34m(self, key, method, tolerance)\u001B[0m\n\u001B[1;32m   3620\u001B[0m \u001B[38;5;28;01mtry\u001B[39;00m:\n\u001B[0;32m-> 3621\u001B[0m     \u001B[38;5;28;01mreturn\u001B[39;00m \u001B[38;5;28;43mself\u001B[39;49m\u001B[38;5;241;43m.\u001B[39;49m\u001B[43m_engine\u001B[49m\u001B[38;5;241;43m.\u001B[39;49m\u001B[43mget_loc\u001B[49m\u001B[43m(\u001B[49m\u001B[43mcasted_key\u001B[49m\u001B[43m)\u001B[49m\n\u001B[1;32m   3622\u001B[0m \u001B[38;5;28;01mexcept\u001B[39;00m \u001B[38;5;167;01mKeyError\u001B[39;00m \u001B[38;5;28;01mas\u001B[39;00m err:\n",
      "File \u001B[0;32m~/Downloads/ENTER/lib/python3.9/site-packages/pandas/_libs/index.pyx:136\u001B[0m, in \u001B[0;36mpandas._libs.index.IndexEngine.get_loc\u001B[0;34m()\u001B[0m\n",
      "File \u001B[0;32m~/Downloads/ENTER/lib/python3.9/site-packages/pandas/_libs/index.pyx:163\u001B[0m, in \u001B[0;36mpandas._libs.index.IndexEngine.get_loc\u001B[0;34m()\u001B[0m\n",
      "File \u001B[0;32mpandas/_libs/hashtable_class_helper.pxi:5198\u001B[0m, in \u001B[0;36mpandas._libs.hashtable.PyObjectHashTable.get_item\u001B[0;34m()\u001B[0m\n",
      "File \u001B[0;32mpandas/_libs/hashtable_class_helper.pxi:5206\u001B[0m, in \u001B[0;36mpandas._libs.hashtable.PyObjectHashTable.get_item\u001B[0;34m()\u001B[0m\n",
      "\u001B[0;31mKeyError\u001B[0m: 'label'",
      "\nThe above exception was the direct cause of the following exception:\n",
      "\u001B[0;31mKeyError\u001B[0m                                  Traceback (most recent call last)",
      "Input \u001B[0;32mIn [2]\u001B[0m, in \u001B[0;36m<cell line: 1>\u001B[0;34m()\u001B[0m\n\u001B[0;32m----> 1\u001B[0m df\u001B[38;5;241m.\u001B[39mloc[df[\u001B[38;5;124m'\u001B[39m\u001B[38;5;124mLabel\u001B[39m\u001B[38;5;124m'\u001B[39m]\u001B[38;5;241m.\u001B[39misna(),\u001B[38;5;124m'\u001B[39m\u001B[38;5;124mLabel\u001B[39m\u001B[38;5;124m'\u001B[39m]\u001B[38;5;241m=\u001B[39m\u001B[43mdf\u001B[49m\u001B[43m[\u001B[49m\u001B[38;5;124;43m'\u001B[39;49m\u001B[38;5;124;43mlabel\u001B[39;49m\u001B[38;5;124;43m'\u001B[39;49m\u001B[43m]\u001B[49m\n",
      "File \u001B[0;32m~/Downloads/ENTER/lib/python3.9/site-packages/pandas/core/frame.py:3505\u001B[0m, in \u001B[0;36mDataFrame.__getitem__\u001B[0;34m(self, key)\u001B[0m\n\u001B[1;32m   3503\u001B[0m \u001B[38;5;28;01mif\u001B[39;00m \u001B[38;5;28mself\u001B[39m\u001B[38;5;241m.\u001B[39mcolumns\u001B[38;5;241m.\u001B[39mnlevels \u001B[38;5;241m>\u001B[39m \u001B[38;5;241m1\u001B[39m:\n\u001B[1;32m   3504\u001B[0m     \u001B[38;5;28;01mreturn\u001B[39;00m \u001B[38;5;28mself\u001B[39m\u001B[38;5;241m.\u001B[39m_getitem_multilevel(key)\n\u001B[0;32m-> 3505\u001B[0m indexer \u001B[38;5;241m=\u001B[39m \u001B[38;5;28;43mself\u001B[39;49m\u001B[38;5;241;43m.\u001B[39;49m\u001B[43mcolumns\u001B[49m\u001B[38;5;241;43m.\u001B[39;49m\u001B[43mget_loc\u001B[49m\u001B[43m(\u001B[49m\u001B[43mkey\u001B[49m\u001B[43m)\u001B[49m\n\u001B[1;32m   3506\u001B[0m \u001B[38;5;28;01mif\u001B[39;00m is_integer(indexer):\n\u001B[1;32m   3507\u001B[0m     indexer \u001B[38;5;241m=\u001B[39m [indexer]\n",
      "File \u001B[0;32m~/Downloads/ENTER/lib/python3.9/site-packages/pandas/core/indexes/base.py:3623\u001B[0m, in \u001B[0;36mIndex.get_loc\u001B[0;34m(self, key, method, tolerance)\u001B[0m\n\u001B[1;32m   3621\u001B[0m     \u001B[38;5;28;01mreturn\u001B[39;00m \u001B[38;5;28mself\u001B[39m\u001B[38;5;241m.\u001B[39m_engine\u001B[38;5;241m.\u001B[39mget_loc(casted_key)\n\u001B[1;32m   3622\u001B[0m \u001B[38;5;28;01mexcept\u001B[39;00m \u001B[38;5;167;01mKeyError\u001B[39;00m \u001B[38;5;28;01mas\u001B[39;00m err:\n\u001B[0;32m-> 3623\u001B[0m     \u001B[38;5;28;01mraise\u001B[39;00m \u001B[38;5;167;01mKeyError\u001B[39;00m(key) \u001B[38;5;28;01mfrom\u001B[39;00m \u001B[38;5;21;01merr\u001B[39;00m\n\u001B[1;32m   3624\u001B[0m \u001B[38;5;28;01mexcept\u001B[39;00m \u001B[38;5;167;01mTypeError\u001B[39;00m:\n\u001B[1;32m   3625\u001B[0m     \u001B[38;5;66;03m# If we have a listlike key, _check_indexing_error will raise\u001B[39;00m\n\u001B[1;32m   3626\u001B[0m     \u001B[38;5;66;03m#  InvalidIndexError. Otherwise we fall through and re-raise\u001B[39;00m\n\u001B[1;32m   3627\u001B[0m     \u001B[38;5;66;03m#  the TypeError.\u001B[39;00m\n\u001B[1;32m   3628\u001B[0m     \u001B[38;5;28mself\u001B[39m\u001B[38;5;241m.\u001B[39m_check_indexing_error(key)\n",
      "\u001B[0;31mKeyError\u001B[0m: 'label'"
     ]
    }
   ],
   "source": [
    "df.loc[df['Label'].isna(),'Label']=df['label']"
   ]
  },
  {
   "cell_type": "code",
   "execution_count": null,
   "metadata": {},
   "outputs": [],
   "source": [
    "df=df.dropna(subset='Label')\n",
    "df=df.loc[:,['#AlleleID','Label','UniProt','Name','Seq']]"
   ]
  },
  {
   "attachments": {},
   "cell_type": "markdown",
   "metadata": {},
   "source": [
    "# deal with Seq"
   ]
  },
  {
   "cell_type": "code",
   "execution_count": null,
   "metadata": {},
   "outputs": [],
   "source": [
    "# discard * \n",
    "df=df.dropna(subset='Seq')\n",
    "\n",
    "df[['*' in seq for seq in df['Seq'].tolist()]]\n",
    "\n"
   ]
  },
  {
   "cell_type": "code",
   "execution_count": 30,
   "metadata": {},
   "outputs": [],
   "source": [
    "df['Seq']=df['Seq'].apply(lambda x: x.split('*')[0] if '*' in x else x)\n"
   ]
  },
  {
   "cell_type": "code",
   "execution_count": 32,
   "metadata": {},
   "outputs": [],
   "source": [
    "df.to_csv('2019_1_sequences_terminated.csv')"
   ]
  },
  {
   "cell_type": "code",
   "execution_count": 3,
   "metadata": {},
   "outputs": [],
   "source": [
    "df['Len']=df['Seq'].apply(lambda x: len(x))"
   ]
  },
  {
   "cell_type": "code",
   "execution_count": 3,
   "metadata": {},
   "outputs": [
    {
     "data": {
      "text/plain": "array([-1.,  1.])"
     },
     "execution_count": 3,
     "metadata": {},
     "output_type": "execute_result"
    }
   ],
   "source": [
    "df['Label'].unique()"
   ]
  },
  {
   "cell_type": "code",
   "execution_count": 9,
   "outputs": [
    {
     "data": {
      "text/plain": "<AxesSubplot:ylabel='Frequency'>"
     },
     "execution_count": 9,
     "metadata": {},
     "output_type": "execute_result"
    },
    {
     "data": {
      "text/plain": "<Figure size 432x288 with 1 Axes>",
      "image/png": "[encoded data removed]"
     },
     "metadata": {
      "needs_background": "light"
     },
     "output_type": "display_data"
    }
   ],
   "source": [
    "df['Len'].plot(kind='hist')\n"
   ],
   "metadata": {
    "collapsed": false
   }
  },
  {
   "cell_type": "code",
   "execution_count": 13,
   "outputs": [
    {
     "data": {
      "text/plain": "count    24955.000000\nmean       736.556682\nstd        719.349860\nmin          1.000000\n25%        309.000000\n50%        519.000000\n75%        861.000000\nmax       7570.000000\nName: Len, dtype: float64"
     },
     "execution_count": 13,
     "metadata": {},
     "output_type": "execute_result"
    }
   ],
   "source": [
    "df['Len'].describe()"
   ],
   "metadata": {
    "collapsed": false
   }
  },
  {
   "cell_type": "code",
   "execution_count": null,
   "outputs": [],
   "source": [],
   "metadata": {
    "collapsed": false
   }
  },
  {
   "cell_type": "code",
   "execution_count": 11,
   "outputs": [],
   "source": [
    "df = df[df['Seq'].apply(lambda x: not('Error' in x))]"
   ],
   "metadata": {
    "collapsed": false
   }
  },
  {
   "cell_type": "code",
   "execution_count": 12,
   "outputs": [
    {
     "data": {
      "text/plain": "       Unnamed: 0  #AlleleID  Label UniProt  \\\n0               0          0   -1.0  P19012   \n1               1          0   -1.0  P40938   \n2               2          0   -1.0  P39905   \n3               3          0   -1.0  P51679   \n4               4          0   -1.0  Q6P087   \n...           ...        ...    ...     ...   \n25000       25118     179687    1.0  P12883   \n25001       25119     179688    1.0  P12883   \n25002       25120     179692    1.0  P12883   \n25003       25121     179697    1.0  P12883   \n25004       25122     179701    1.0  P12883   \n\n                                           Name  \\\n0                                             0   \n1                                             0   \n2                                             0   \n3                                             0   \n4                                             0   \n...                                         ...   \n25000  NM_000257.3(MYH7):c.649G>C (p.Glu217Gln)   \n25001  NM_000257.3(MYH7):c.617A>G (p.Lys206Arg)   \n25002  NM_000257.3(MYH7):c.550A>C (p.Lys184Gln)   \n25003  NM_000257.3(MYH7):c.494T>A (p.Met165Lys)   \n25004  NM_000257.3(MYH7):c.442A>C (p.Ser148Arg)   \n\n                                                     Seq   Len  \n0      MTTTFLQTSSSTFGGGSTRGGSLLAGGGGFGGGSLSGGGGSRSISA...   456  \n1      MSLWVDKYRPCSLGRLDYHKEQAAQLRNLVQCGDFPHLLVYGPSGA...   356  \n2      MKLWDVVAVCLVLLHTASAFPLPAGKRPPEAPAEDRSLGRRRAPFA...   211  \n3      MNPTDIADTTLDESIYSNYYLYESIPKPCTKEGIKAFGELFLPPLY...   360  \n4      MRAVLAREMDGRRVLGRFWSGWRRGLGVRPVPEDAGFGTEARHQRQ...   351  \n...                                                  ...   ...  \n25000  MGDSEMAVFGAAAPYLRKSEKERLEAQTRPFDLKKDVFVPDDKQEF...  1935  \n25001  MGDSEMAVFGAAAPYLRKSEKERLEAQTRPFDLKKDVFVPDDKQEF...  1935  \n25002  MGDSEMAVFGAAAPYLRKSEKERLEAQTRPFDLKKDVFVPDDKQEF...  1935  \n25003  MGDSEMAVFGAAAPYLRKSEKERLEAQTRPFDLKKDVFVPDDKQEF...  1935  \n25004  MGDSEMAVFGAAAPYLRKSEKERLEAQTRPFDLKKDVFVPDDKQEF...  1935  \n\n[24955 rows x 7 columns]",
      "text/html": "<div>\n<style scoped>\n    .dataframe tbody tr th:only-of-type {\n        vertical-align: middle;\n    }\n\n    .dataframe tbody tr th {\n        vertical-align: top;\n    }\n\n    .dataframe thead th {\n        text-align: right;\n    }\n</style>\n<table border=\"1\" class=\"dataframe\">\n  <thead>\n    <tr style=\"text-align: right;\">\n      <th></th>\n      <th>Unnamed: 0</th>\n      <th>#AlleleID</th>\n      <th>Label</th>\n      <th>UniProt</th>\n      <th>Name</th>\n      <th>Seq</th>\n      <th>Len</th>\n    </tr>\n  </thead>\n  <tbody>\n    <tr>\n      <th>0</th>\n      <td>0</td>\n      <td>0</td>\n      <td>-1.0</td>\n      <td>P19012</td>\n      <td>0</td>\n      <td>MTTTFLQTSSSTFGGGSTRGGSLLAGGGGFGGGSLSGGGGSRSISA...</td>\n      <td>456</td>\n    </tr>\n    <tr>\n      <th>1</th>\n      <td>1</td>\n      <td>0</td>\n      <td>-1.0</td>\n      <td>P40938</td>\n      <td>0</td>\n      <td>MSLWVDKYRPCSLGRLDYHKEQAAQLRNLVQCGDFPHLLVYGPSGA...</td>\n      <td>356</td>\n    </tr>\n    <tr>\n      <th>2</th>\n      <td>2</td>\n      <td>0</td>\n      <td>-1.0</td>\n      <td>P39905</td>\n      <td>0</td>\n      <td>MKLWDVVAVCLVLLHTASAFPLPAGKRPPEAPAEDRSLGRRRAPFA...</td>\n      <td>211</td>\n    </tr>\n    <tr>\n      <th>3</th>\n      <td>3</td>\n      <td>0</td>\n      <td>-1.0</td>\n      <td>P51679</td>\n      <td>0</td>\n      <td>MNPTDIADTTLDESIYSNYYLYESIPKPCTKEGIKAFGELFLPPLY...</td>\n      <td>360</td>\n    </tr>\n    <tr>\n      <th>4</th>\n      <td>4</td>\n      <td>0</td>\n      <td>-1.0</td>\n      <td>Q6P087</td>\n      <td>0</td>\n      <td>MRAVLAREMDGRRVLGRFWSGWRRGLGVRPVPEDAGFGTEARHQRQ...</td>\n      <td>351</td>\n    </tr>\n    <tr>\n      <th>...</th>\n      <td>...</td>\n      <td>...</td>\n      <td>...</td>\n      <td>...</td>\n      <td>...</td>\n      <td>...</td>\n      <td>...</td>\n    </tr>\n    <tr>\n      <th>25000</th>\n      <td>25118</td>\n      <td>179687</td>\n      <td>1.0</td>\n      <td>P12883</td>\n      <td>NM_000257.3(MYH7):c.649G&gt;C (p.Glu217Gln)</td>\n      <td>MGDSEMAVFGAAAPYLRKSEKERLEAQTRPFDLKKDVFVPDDKQEF...</td>\n      <td>1935</td>\n    </tr>\n    <tr>\n      <th>25001</th>\n      <td>25119</td>\n      <td>179688</td>\n      <td>1.0</td>\n      <td>P12883</td>\n      <td>NM_000257.3(MYH7):c.617A&gt;G (p.Lys206Arg)</td>\n      <td>MGDSEMAVFGAAAPYLRKSEKERLEAQTRPFDLKKDVFVPDDKQEF...</td>\n      <td>1935</td>\n    </tr>\n    <tr>\n      <th>25002</th>\n      <td>25120</td>\n      <td>179692</td>\n      <td>1.0</td>\n      <td>P12883</td>\n      <td>NM_000257.3(MYH7):c.550A&gt;C (p.Lys184Gln)</td>\n      <td>MGDSEMAVFGAAAPYLRKSEKERLEAQTRPFDLKKDVFVPDDKQEF...</td>\n      <td>1935</td>\n    </tr>\n    <tr>\n      <th>25003</th>\n      <td>25121</td>\n      <td>179697</td>\n      <td>1.0</td>\n      <td>P12883</td>\n      <td>NM_000257.3(MYH7):c.494T&gt;A (p.Met165Lys)</td>\n      <td>MGDSEMAVFGAAAPYLRKSEKERLEAQTRPFDLKKDVFVPDDKQEF...</td>\n      <td>1935</td>\n    </tr>\n    <tr>\n      <th>25004</th>\n      <td>25122</td>\n      <td>179701</td>\n      <td>1.0</td>\n      <td>P12883</td>\n      <td>NM_000257.3(MYH7):c.442A&gt;C (p.Ser148Arg)</td>\n      <td>MGDSEMAVFGAAAPYLRKSEKERLEAQTRPFDLKKDVFVPDDKQEF...</td>\n      <td>1935</td>\n    </tr>\n  </tbody>\n</table>\n<p>24955 rows × 7 columns</p>\n</div>"
     },
     "execution_count": 12,
     "metadata": {},
     "output_type": "execute_result"
    }
   ],
   "source": [
    "df"
   ],
   "metadata": {
    "collapsed": false
   }
  },
  {
   "cell_type": "code",
   "execution_count": null,
   "outputs": [],
   "source": [],
   "metadata": {
    "collapsed": false
   }
  }
 ],
 "metadata": {
  "kernelspec": {
   "display_name": "shuying",
   "language": "python",
   "name": "python3"
  },
  "language_info": {
   "codemirror_mode": {
    "name": "ipython",
    "version": 3
   },
   "file_extension": ".py",
   "mimetype": "text/x-python",
   "name": "python",
   "nbconvert_exporter": "python",
   "pygments_lexer": "ipython3",
   "version": "3.10.10"
  },
  "orig_nbformat": 4
 },
 "nbformat": 4,
 "nbformat_minor": 2
}
