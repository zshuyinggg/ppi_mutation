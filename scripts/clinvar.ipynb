{
 "cells": [
  {
   "cell_type": "code",
   "execution_count": 16,
   "metadata": {},
   "outputs": [],
   "source": [
    "import pandas as pd\n"
   ]
  },
  {
   "cell_type": "code",
   "execution_count": 17,
   "metadata": {},
   "outputs": [],
   "source": [
    "file = '/home/grads/z/zshuying/Documents/shuying/ppi_mutation/data/clinvar/Jan19.txt'\n",
    "out='/home/grads/z/zshuying/Documents/shuying/ppi_mutation/data/clinvar/criteria_above_discard_redundant_clinsig.txt'"
   ]
  },
  {
   "cell_type": "code",
   "execution_count": 19,
   "metadata": {},
   "outputs": [
    {
     "name": "stdout",
     "output_type": "stream",
     "text": [
      "{' other'}  is discarded\n",
      "{' other'}  is discarded\n",
      "{' other'}  is discarded\n",
      "{' other'}  is discarded\n",
      "{' other'}  is discarded\n",
      "{' other'}  is discarded\n",
      "{' other'}  is discarded\n",
      "{' other'}  is discarded\n",
      "{' risk factor'}  is discarded\n",
      "{' risk factor'}  is discarded\n",
      "{' risk factor'}  is discarded\n",
      "{' risk factor'}  is discarded\n",
      "{' risk factor'}  is discarded\n",
      "{' other'}  is discarded\n",
      "{' other'}  is discarded\n",
      "{' other'}  is discarded\n",
      "{' risk factor'}  is discarded\n",
      "{' association', ' risk factor'}  is discarded\n",
      "{' association'}  is discarded\n",
      "{' other'}  is discarded\n",
      "{' other'}  is discarded\n",
      "{' risk factor'}  is discarded\n",
      "{' other'}  is discarded\n",
      "{' other'}  is discarded\n",
      "{' risk factor'}  is discarded\n",
      "{' risk factor'}  is discarded\n",
      "{' risk factor'}  is discarded\n",
      "{' association'}  is discarded\n",
      "{' risk factor', ' other'}  is discarded\n",
      "{' other'}  is discarded\n",
      "{' other'}  is discarded\n",
      "{' other'}  is discarded\n",
      "{' other'}  is discarded\n",
      "{' other'}  is discarded\n",
      "{' other'}  is discarded\n",
      "{' other'}  is discarded\n",
      "{' other'}  is discarded\n",
      "{' other'}  is discarded\n",
      "{' other'}  is discarded\n",
      "{' risk factor'}  is discarded\n",
      "{' other'}  is discarded\n",
      "{' risk factor'}  is discarded\n",
      "{' risk factor'}  is discarded\n",
      "{' risk factor'}  is discarded\n",
      "{' association'}  is discarded\n",
      "{' risk factor'}  is discarded\n"
     ]
    }
   ],
   "source": [
    "with open(file,'r') as f:\n",
    "    with open(out,'w') as f_out:\n",
    "        line=f.readline()\n",
    "        f_out.write('clinvar_id;review_status;clinical_sig;uniprot_kb;variant_type;hgvs_p;missense\\n')\n",
    "        while True:\n",
    "            line=f.readline()\n",
    "\n",
    "            if line.count(';')>6:\n",
    "                discard_num=line.count(';')-6+3\n",
    "                line_new=';'.join(line.split(';')[:3]+line.split(';')[discard_num:])\n",
    "                print(set(line.split(';'))-set(line_new.split(';')),' is discarded')\n",
    "                f_out.write(line_new)\n",
    "            else:\n",
    "                f_out.write(line)\n",
    "            if not line:break"
   ]
  },
  {
   "attachments": {},
   "cell_type": "markdown",
   "metadata": {},
   "source": [
    "# Inspect data"
   ]
  },
  {
   "cell_type": "code",
   "execution_count": 20,
   "metadata": {},
   "outputs": [
    {
     "data": {
      "text/html": [
       "<div>\n",
       "<style scoped>\n",
       "    .dataframe tbody tr th:only-of-type {\n",
       "        vertical-align: middle;\n",
       "    }\n",
       "\n",
       "    .dataframe tbody tr th {\n",
       "        vertical-align: top;\n",
       "    }\n",
       "\n",
       "    .dataframe thead th {\n",
       "        text-align: right;\n",
       "    }\n",
       "</style>\n",
       "<table border=\"1\" class=\"dataframe\">\n",
       "  <thead>\n",
       "    <tr style=\"text-align: right;\">\n",
       "      <th></th>\n",
       "      <th>clinvar_id</th>\n",
       "      <th>review_status</th>\n",
       "      <th>clinical_sig</th>\n",
       "      <th>uniprot_kb</th>\n",
       "      <th>variant_type</th>\n",
       "      <th>hgvs_p</th>\n",
       "      <th>missense</th>\n",
       "    </tr>\n",
       "  </thead>\n",
       "  <tbody>\n",
       "    <tr>\n",
       "      <th>0</th>\n",
       "      <td>SCV002232601</td>\n",
       "      <td>criteria provided, single submitter</td>\n",
       "      <td>Pathogenic</td>\n",
       "      <td>P04181#VAR_000578</td>\n",
       "      <td>Variation</td>\n",
       "      <td>P04181:p.Arg271Lys</td>\n",
       "      <td>missense variant</td>\n",
       "    </tr>\n",
       "    <tr>\n",
       "      <th>1</th>\n",
       "      <td>SCV002291827</td>\n",
       "      <td>criteria provided, single submitter</td>\n",
       "      <td>Uncertain significance</td>\n",
       "      <td>P04181#VAR_015648</td>\n",
       "      <td>Variation</td>\n",
       "      <td>P04181:p.Gln90Glu</td>\n",
       "      <td>missense variant</td>\n",
       "    </tr>\n",
       "    <tr>\n",
       "      <th>2</th>\n",
       "      <td>SCV001445903</td>\n",
       "      <td>criteria provided, single submitter</td>\n",
       "      <td>Likely pathogenic</td>\n",
       "      <td>P12955#VAR_011615</td>\n",
       "      <td>Variation</td>\n",
       "      <td>P12955:p.Gly278Asp</td>\n",
       "      <td>missense variant</td>\n",
       "    </tr>\n",
       "    <tr>\n",
       "      <th>3</th>\n",
       "      <td>SCV001449002</td>\n",
       "      <td>criteria provided, single submitter</td>\n",
       "      <td>Pathogenic/Likely pathogenic</td>\n",
       "      <td>P12955#VAR_004405</td>\n",
       "      <td>Variation</td>\n",
       "      <td>P12955:p.Gly448Arg</td>\n",
       "      <td>missense variant</td>\n",
       "    </tr>\n",
       "    <tr>\n",
       "      <th>4</th>\n",
       "      <td>SCV000935565</td>\n",
       "      <td>criteria provided, single submitter</td>\n",
       "      <td>Likely pathogenic</td>\n",
       "      <td>P21359#VAR_002663</td>\n",
       "      <td>Variation</td>\n",
       "      <td>P21359:p.Leu1953Pro</td>\n",
       "      <td>missense variant</td>\n",
       "    </tr>\n",
       "  </tbody>\n",
       "</table>\n",
       "</div>"
      ],
      "text/plain": [
       "     clinvar_id                        review_status  \\\n",
       "0  SCV002232601  criteria provided, single submitter   \n",
       "1  SCV002291827  criteria provided, single submitter   \n",
       "2  SCV001445903  criteria provided, single submitter   \n",
       "3  SCV001449002  criteria provided, single submitter   \n",
       "4  SCV000935565  criteria provided, single submitter   \n",
       "\n",
       "                   clinical_sig         uniprot_kb variant_type  \\\n",
       "0                    Pathogenic  P04181#VAR_000578    Variation   \n",
       "1        Uncertain significance  P04181#VAR_015648    Variation   \n",
       "2             Likely pathogenic  P12955#VAR_011615    Variation   \n",
       "3  Pathogenic/Likely pathogenic  P12955#VAR_004405    Variation   \n",
       "4             Likely pathogenic  P21359#VAR_002663    Variation   \n",
       "\n",
       "                hgvs_p          missense  \n",
       "0   P04181:p.Arg271Lys  missense variant  \n",
       "1    P04181:p.Gln90Glu  missense variant  \n",
       "2   P12955:p.Gly278Asp  missense variant  \n",
       "3   P12955:p.Gly448Arg  missense variant  \n",
       "4  P21359:p.Leu1953Pro  missense variant  "
      ]
     },
     "execution_count": 20,
     "metadata": {},
     "output_type": "execute_result"
    }
   ],
   "source": [
    "data=pd.read_csv(out,delimiter=';')\n",
    "data.head()"
   ]
  },
  {
   "cell_type": "markdown",
   "metadata": {},
   "source": []
  },
  {
   "cell_type": "code",
   "execution_count": 22,
   "metadata": {},
   "outputs": [
    {
     "data": {
      "text/plain": [
       "array(['Pathogenic', 'Uncertain significance', 'Likely pathogenic',\n",
       "       'Pathogenic/Likely pathogenic', 'Benign', 'Likely benign',\n",
       "       'Conflicting interpretations of pathogenicity',\n",
       "       'Benign/Likely benign', 'drug response', 'other',\n",
       "       'Likely risk allele', 'risk factor',\n",
       "       'Pathogenic/Likely pathogenic/Established risk allele',\n",
       "       'Established risk allele', 'Pathogenic/Pathogenic, low penetrance',\n",
       "       'association'], dtype=object)"
      ]
     },
     "execution_count": 22,
     "metadata": {},
     "output_type": "execute_result"
    }
   ],
   "source": [
    "data.clinical_sig.unique()"
   ]
  },
  {
   "cell_type": "code",
   "execution_count": 34,
   "metadata": {},
   "outputs": [
    {
     "data": {
      "text/plain": [
       "array(['Variation', 'single nucleotide variant', 'copy number gain'],\n",
       "      dtype=object)"
      ]
     },
     "execution_count": 34,
     "metadata": {},
     "output_type": "execute_result"
    }
   ],
   "source": [
    "data.variant_type.unique()"
   ]
  },
  {
   "attachments": {},
   "cell_type": "markdown",
   "metadata": {},
   "source": []
  },
  {
   "attachments": {},
   "cell_type": "markdown",
   "metadata": {},
   "source": [
    "# Process clinical significance"
   ]
  },
  {
   "attachments": {},
   "cell_type": "markdown",
   "metadata": {},
   "source": [
    "['Pathogenic', 'Uncertain significance', 'Likely pathogenic',\n",
    "       'Pathogenic/Likely pathogenic', 'Benign', 'Likely benign',\n",
    "       'Conflicting interpretations of pathogenicity',\n",
    "       'Benign/Likely benign', 'drug response', 'other',\n",
    "       'Likely risk allele', 'risk factor',\n",
    "       'Pathogenic/Likely pathogenic/Established risk allele',\n",
    "       'Established risk allele', 'Pathogenic/Pathogenic, low penetrance',\n",
    "       'association']"
   ]
  },
  {
   "cell_type": "code",
   "execution_count": 29,
   "metadata": {},
   "outputs": [],
   "source": [
    "def if_positive_or_negative(string_list):\n",
    "    label=[]\n",
    "    for string in string_list:\n",
    "        if string in ['Pathogenic', \n",
    "                    'Pathogenic/Likely pathogenic', \n",
    "                    'probable-pathogenic',\n",
    "                    'Likely pathogenic', \n",
    "                    'pathologic', \n",
    "                    'pathogenic',\n",
    "                    'likely pathogenic',\n",
    "                    'Pathogenic/Likely pathogenic/Established risk allele',\n",
    "                    'likely pathogenic - adrenal pheochromocytoma',\n",
    "                    'Pathogenic/Pathogenic, low penetrance',\n",
    "                    'Pathogenic, low penetrance']:\n",
    "            label.append(1)\n",
    "        elif string in ['Benign',\n",
    "                    'Likely benign',\n",
    "                    'Likely Benign',\n",
    "                    'Benign/Likely benign',\n",
    "                    'non-pathogenic', \n",
    "                    'benign', 'probable-non-pathogenic', 'Likely Benign', 'probably not pathogenic',\n",
    "        ]:\n",
    "            label.append(-1)\n",
    "\n",
    "        else: label.append(0)\n",
    "    return label"
   ]
  },
  {
   "cell_type": "code",
   "execution_count": 30,
   "metadata": {},
   "outputs": [],
   "source": [
    "data['label']=if_positive_or_negative(data['clinical_sig'])"
   ]
  },
  {
   "attachments": {},
   "cell_type": "markdown",
   "metadata": {},
   "source": [
    "## Generate Positive Clinvar File and Negative Clinvar File"
   ]
  },
  {
   "cell_type": "code",
   "execution_count": 32,
   "metadata": {},
   "outputs": [],
   "source": [
    "data[data['label']==1].to_csv('/home/grads/z/zshuying/Documents/shuying/ppi_mutation/data/clinvar/clinvar_pos.csv',sep=';')\n",
    "data[data['label']==-1].to_csv('/home/grads/z/zshuying/Documents/shuying/ppi_mutation/data/clinvar/clinvar_neg.csv',sep=';')"
   ]
  },
  {
   "cell_type": "code",
   "execution_count": 35,
   "metadata": {},
   "outputs": [
    {
     "data": {
      "text/html": [
       "<div>\n",
       "<style scoped>\n",
       "    .dataframe tbody tr th:only-of-type {\n",
       "        vertical-align: middle;\n",
       "    }\n",
       "\n",
       "    .dataframe tbody tr th {\n",
       "        vertical-align: top;\n",
       "    }\n",
       "\n",
       "    .dataframe thead th {\n",
       "        text-align: right;\n",
       "    }\n",
       "</style>\n",
       "<table border=\"1\" class=\"dataframe\">\n",
       "  <thead>\n",
       "    <tr style=\"text-align: right;\">\n",
       "      <th></th>\n",
       "      <th>clinvar_id</th>\n",
       "      <th>review_status</th>\n",
       "      <th>clinical_sig</th>\n",
       "      <th>uniprot_kb</th>\n",
       "      <th>variant_type</th>\n",
       "      <th>hgvs_p</th>\n",
       "      <th>missense</th>\n",
       "      <th>label</th>\n",
       "    </tr>\n",
       "  </thead>\n",
       "  <tbody>\n",
       "    <tr>\n",
       "      <th>19</th>\n",
       "      <td>SCV000361195</td>\n",
       "      <td>criteria provided, single submitter</td>\n",
       "      <td>Benign</td>\n",
       "      <td>P0C7Q2#VAR_044331</td>\n",
       "      <td>Variation</td>\n",
       "      <td>P0C7Q2:p.Ala69Ser</td>\n",
       "      <td>missense variant</td>\n",
       "      <td>-1</td>\n",
       "    </tr>\n",
       "    <tr>\n",
       "      <th>21</th>\n",
       "      <td>SCV001325434</td>\n",
       "      <td>criteria provided, single submitter</td>\n",
       "      <td>Likely benign</td>\n",
       "      <td>O60393#VAR_036636</td>\n",
       "      <td>Variation</td>\n",
       "      <td>O60393:p.Arg355His</td>\n",
       "      <td>missense variant</td>\n",
       "      <td>-1</td>\n",
       "    </tr>\n",
       "    <tr>\n",
       "      <th>55</th>\n",
       "      <td>SCV000451797</td>\n",
       "      <td>criteria provided, single submitter</td>\n",
       "      <td>Likely benign</td>\n",
       "      <td>Q9NRM0#VAR_065775</td>\n",
       "      <td>Variation</td>\n",
       "      <td>Q9NRM0:p.Arg198Cys</td>\n",
       "      <td>missense variant</td>\n",
       "      <td>-1</td>\n",
       "    </tr>\n",
       "    <tr>\n",
       "      <th>58</th>\n",
       "      <td>SCV001136513</td>\n",
       "      <td>criteria provided, single submitter</td>\n",
       "      <td>Benign</td>\n",
       "      <td>Q9NP91#VAR_052068</td>\n",
       "      <td>Variation</td>\n",
       "      <td>Q9NP91:p.Thr199Met</td>\n",
       "      <td>missense variant</td>\n",
       "      <td>-1</td>\n",
       "    </tr>\n",
       "    <tr>\n",
       "      <th>79</th>\n",
       "      <td>SCV001138159</td>\n",
       "      <td>criteria provided, single submitter</td>\n",
       "      <td>Benign</td>\n",
       "      <td>P15169#VAR_042415</td>\n",
       "      <td>Variation</td>\n",
       "      <td>P15169:p.Gly178Asp</td>\n",
       "      <td>missense variant</td>\n",
       "      <td>-1</td>\n",
       "    </tr>\n",
       "    <tr>\n",
       "      <th>...</th>\n",
       "      <td>...</td>\n",
       "      <td>...</td>\n",
       "      <td>...</td>\n",
       "      <td>...</td>\n",
       "      <td>...</td>\n",
       "      <td>...</td>\n",
       "      <td>...</td>\n",
       "      <td>...</td>\n",
       "    </tr>\n",
       "    <tr>\n",
       "      <th>32189</th>\n",
       "      <td>SCV002738545</td>\n",
       "      <td>criteria provided, single submitter</td>\n",
       "      <td>Benign</td>\n",
       "      <td>P17813#VAR_014764</td>\n",
       "      <td>Variation</td>\n",
       "      <td>P17813:p.Asp366His</td>\n",
       "      <td>missense variant</td>\n",
       "      <td>-1</td>\n",
       "    </tr>\n",
       "    <tr>\n",
       "      <th>32191</th>\n",
       "      <td>SCV002612763</td>\n",
       "      <td>criteria provided, single submitter</td>\n",
       "      <td>Benign</td>\n",
       "      <td>Q14896#VAR_074545</td>\n",
       "      <td>Variation</td>\n",
       "      <td>Q14896:p.Arg1138His</td>\n",
       "      <td>missense variant</td>\n",
       "      <td>-1</td>\n",
       "    </tr>\n",
       "    <tr>\n",
       "      <th>32192</th>\n",
       "      <td>SCV002613575</td>\n",
       "      <td>criteria provided, single submitter</td>\n",
       "      <td>Likely benign</td>\n",
       "      <td>Q14896#VAR_020571</td>\n",
       "      <td>Variation</td>\n",
       "      <td>Q14896:p.Leu383Val</td>\n",
       "      <td>missense variant</td>\n",
       "      <td>-1</td>\n",
       "    </tr>\n",
       "    <tr>\n",
       "      <th>32196</th>\n",
       "      <td>SCV002614959</td>\n",
       "      <td>criteria provided, single submitter</td>\n",
       "      <td>Benign</td>\n",
       "      <td>Q8TAB3#VAR_067489</td>\n",
       "      <td>Variation</td>\n",
       "      <td>Q8TAB3:p.Asn1134His</td>\n",
       "      <td>missense variant</td>\n",
       "      <td>-1</td>\n",
       "    </tr>\n",
       "    <tr>\n",
       "      <th>32200</th>\n",
       "      <td>SCV002618433</td>\n",
       "      <td>criteria provided, single submitter</td>\n",
       "      <td>Likely benign</td>\n",
       "      <td>Q8WZ42#VAR_040089</td>\n",
       "      <td>Variation</td>\n",
       "      <td>Q8WZ42:p.Val1202Ala</td>\n",
       "      <td>missense variant</td>\n",
       "      <td>-1</td>\n",
       "    </tr>\n",
       "  </tbody>\n",
       "</table>\n",
       "<p>12563 rows × 8 columns</p>\n",
       "</div>"
      ],
      "text/plain": [
       "         clinvar_id                        review_status   clinical_sig  \\\n",
       "19     SCV000361195  criteria provided, single submitter         Benign   \n",
       "21     SCV001325434  criteria provided, single submitter  Likely benign   \n",
       "55     SCV000451797  criteria provided, single submitter  Likely benign   \n",
       "58     SCV001136513  criteria provided, single submitter         Benign   \n",
       "79     SCV001138159  criteria provided, single submitter         Benign   \n",
       "...             ...                                  ...            ...   \n",
       "32189  SCV002738545  criteria provided, single submitter         Benign   \n",
       "32191  SCV002612763  criteria provided, single submitter         Benign   \n",
       "32192  SCV002613575  criteria provided, single submitter  Likely benign   \n",
       "32196  SCV002614959  criteria provided, single submitter         Benign   \n",
       "32200  SCV002618433  criteria provided, single submitter  Likely benign   \n",
       "\n",
       "              uniprot_kb variant_type               hgvs_p          missense  \\\n",
       "19     P0C7Q2#VAR_044331    Variation    P0C7Q2:p.Ala69Ser  missense variant   \n",
       "21     O60393#VAR_036636    Variation   O60393:p.Arg355His  missense variant   \n",
       "55     Q9NRM0#VAR_065775    Variation   Q9NRM0:p.Arg198Cys  missense variant   \n",
       "58     Q9NP91#VAR_052068    Variation   Q9NP91:p.Thr199Met  missense variant   \n",
       "79     P15169#VAR_042415    Variation   P15169:p.Gly178Asp  missense variant   \n",
       "...                  ...          ...                  ...               ...   \n",
       "32189  P17813#VAR_014764    Variation   P17813:p.Asp366His  missense variant   \n",
       "32191  Q14896#VAR_074545    Variation  Q14896:p.Arg1138His  missense variant   \n",
       "32192  Q14896#VAR_020571    Variation   Q14896:p.Leu383Val  missense variant   \n",
       "32196  Q8TAB3#VAR_067489    Variation  Q8TAB3:p.Asn1134His  missense variant   \n",
       "32200  Q8WZ42#VAR_040089    Variation  Q8WZ42:p.Val1202Ala  missense variant   \n",
       "\n",
       "       label  \n",
       "19        -1  \n",
       "21        -1  \n",
       "55        -1  \n",
       "58        -1  \n",
       "79        -1  \n",
       "...      ...  \n",
       "32189     -1  \n",
       "32191     -1  \n",
       "32192     -1  \n",
       "32196     -1  \n",
       "32200     -1  \n",
       "\n",
       "[12563 rows x 8 columns]"
      ]
     },
     "execution_count": 35,
     "metadata": {},
     "output_type": "execute_result"
    }
   ],
   "source": [
    "data[data['label']==-1]"
   ]
  },
  {
   "cell_type": "code",
   "execution_count": 12,
   "metadata": {},
   "outputs": [],
   "source": [
    "def generate_example(start,end):\n",
    "    with open('/home/grads/z/zshuying/Documents/shuying/ppi_mutation/data/clinvar/ClinVarFullRelease_00-latest.xml', 'r') as f_in:\n",
    "        with open('/home/grads/z/zshuying/Documents/shuying/ppi_mutation/data/clinvar/example_'+str(start)+'_'+str(end)+'.xml','w') as f_out:\n",
    "            line_count=0\n",
    "            while True:\n",
    "                line=f_in.readline()\n",
    "                line_count+=1\n",
    "                if line_count>start and line_count<end:\n",
    "                    f_out.write(line)\n",
    "                if line_count>end:\n",
    "                    break\n",
    "\n",
    "def find_line(content):\n",
    "    with open('/home/grads/z/zshuying/Documents/shuying/ppi_mutation/data/clinvar/ClinVarFullRelease_00-latest.xml', 'r') as f_in:\n",
    "            line_count=0\n",
    "\n",
    "            while True:\n",
    "                line=f_in.readline()\n",
    "                line_count+=1\n",
    "\n",
    "                if content in line:\n",
    "                    print(line_count)\n",
    "                    break"
   ]
  },
  {
   "cell_type": "code",
   "execution_count": 41,
   "metadata": {},
   "outputs": [],
   "source": [
    "generate_example(16932274,16934274)"
   ]
  },
  {
   "cell_type": "code",
   "execution_count": null,
   "metadata": {},
   "outputs": [],
   "source": []
  },
  {
   "cell_type": "code",
   "execution_count": 40,
   "metadata": {},
   "outputs": [
    {
     "name": "stdout",
     "output_type": "stream",
     "text": [
      "16933274\n"
     ]
    }
   ],
   "source": [
    "find_line('SCV000345973')"
   ]
  },
  {
   "cell_type": "code",
   "execution_count": null,
   "metadata": {},
   "outputs": [],
   "source": [
    "RCV000203850 L936 (932-1335)\n",
    "SCV000259045 L1117\n",
    "\n",
    "delayed one\n",
    "\n",
    "SCV000258941 L1257"
   ]
  }
 ],
 "metadata": {
  "kernelspec": {
   "display_name": "shuying",
   "language": "python",
   "name": "python3"
  },
  "language_info": {
   "codemirror_mode": {
    "name": "ipython",
    "version": 3
   },
   "file_extension": ".py",
   "mimetype": "text/x-python",
   "name": "python",
   "nbconvert_exporter": "python",
   "pygments_lexer": "ipython3",
   "version": "3.10.6"
  },
  "orig_nbformat": 4,
  "vscode": {
   "interpreter": {
    "hash": "ea132143862a5a1585a78ca35dc11c6c8e0adb2bc2e6416d63c557466f5bb992"
   }
  }
 },
 "nbformat": 4,
 "nbformat_minor": 2
}
