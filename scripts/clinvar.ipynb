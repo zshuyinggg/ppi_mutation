{
 "cells": [
  {
   "cell_type": "code",
   "execution_count": 1,
   "metadata": {},
   "outputs": [],
   "source": [
    "import pandas as pd\n"
   ]
  },
  {
   "cell_type": "code",
   "execution_count": 19,
   "metadata": {},
   "outputs": [],
   "source": [
    "file = '/home/grads/z/zshuying/Documents/shuying/ppi_mutation/data/clinvar/dec24.txt'\n",
    "out='/home/grads/z/zshuying/Documents/shuying/ppi_mutation/data/clinvar/criteria_above_discard_redundant_clinsig.txt'"
   ]
  },
  {
   "cell_type": "code",
   "execution_count": null,
   "metadata": {},
   "outputs": [],
   "source": []
  },
  {
   "cell_type": "code",
   "execution_count": 20,
   "metadata": {},
   "outputs": [],
   "source": [
    "with open(file,'r') as f:\n",
    "    with open(out,'w') as f_out:\n",
    "        line=f.readline()\n",
    "        f_out.write('clinvar_id;review_status;clinical_sig;variant_type;hgvs_p;missense\\n')\n",
    "        while True:\n",
    "            line=f.readline()\n",
    "\n",
    "            if line.count(';')>6:\n",
    "                discard_num=line.count(';')-6+3\n",
    "                line_new=';'.join(line.split(';')[:3]+line.split(';')[discard_num:])\n",
    "                print(set(line.split(';'))-set(line_new.split(';')),' is discarded')\n",
    "                f_out.write(line_new)\n",
    "            else:\n",
    "                f_out.write(line)\n",
    "            if not line:break"
   ]
  },
  {
   "cell_type": "code",
   "execution_count": 21,
   "metadata": {},
   "outputs": [
    {
     "data": {
      "text/html": [
       "<div>\n",
       "<style scoped>\n",
       "    .dataframe tbody tr th:only-of-type {\n",
       "        vertical-align: middle;\n",
       "    }\n",
       "\n",
       "    .dataframe tbody tr th {\n",
       "        vertical-align: top;\n",
       "    }\n",
       "\n",
       "    .dataframe thead th {\n",
       "        text-align: right;\n",
       "    }\n",
       "</style>\n",
       "<table border=\"1\" class=\"dataframe\">\n",
       "  <thead>\n",
       "    <tr style=\"text-align: right;\">\n",
       "      <th></th>\n",
       "      <th>clinvar_id</th>\n",
       "      <th>review_status</th>\n",
       "      <th>clinical_sig</th>\n",
       "      <th>variant_type</th>\n",
       "      <th>hgvs_p</th>\n",
       "      <th>missense</th>\n",
       "    </tr>\n",
       "  </thead>\n",
       "  <tbody>\n",
       "    <tr>\n",
       "      <th>0</th>\n",
       "      <td>SCV000787438</td>\n",
       "      <td>criteria provided, single submitter</td>\n",
       "      <td>Likely pathogenic</td>\n",
       "      <td>Variation</td>\n",
       "      <td>NP_004306.3:p.Tyr52Cys</td>\n",
       "      <td>missense variant</td>\n",
       "    </tr>\n",
       "    <tr>\n",
       "      <th>1</th>\n",
       "      <td>SCV002232601</td>\n",
       "      <td>criteria provided, single submitter</td>\n",
       "      <td>Pathogenic</td>\n",
       "      <td>Variation</td>\n",
       "      <td>NP_001309903.1:p.Arg71Lys</td>\n",
       "      <td>missense variant</td>\n",
       "    </tr>\n",
       "    <tr>\n",
       "      <th>2</th>\n",
       "      <td>SCV002291827</td>\n",
       "      <td>criteria provided, single submitter</td>\n",
       "      <td>Uncertain significance</td>\n",
       "      <td>Variation</td>\n",
       "      <td>NP_001309899.1:p.Gln90Glu</td>\n",
       "      <td>missense variant</td>\n",
       "    </tr>\n",
       "    <tr>\n",
       "      <th>3</th>\n",
       "      <td>SCV001445903</td>\n",
       "      <td>criteria provided, single submitter</td>\n",
       "      <td>Likely pathogenic</td>\n",
       "      <td>Variation</td>\n",
       "      <td>NP_000276.2:p.Gly278Asp</td>\n",
       "      <td>missense variant</td>\n",
       "    </tr>\n",
       "    <tr>\n",
       "      <th>4</th>\n",
       "      <td>SCV001449002</td>\n",
       "      <td>criteria provided, single submitter</td>\n",
       "      <td>Likely pathogenic</td>\n",
       "      <td>Variation</td>\n",
       "      <td>NP_000276.2:p.Gly448Arg</td>\n",
       "      <td>missense variant</td>\n",
       "    </tr>\n",
       "  </tbody>\n",
       "</table>\n",
       "</div>"
      ],
      "text/plain": [
       "     clinvar_id                        review_status            clinical_sig  \\\n",
       "0  SCV000787438  criteria provided, single submitter       Likely pathogenic   \n",
       "1  SCV002232601  criteria provided, single submitter              Pathogenic   \n",
       "2  SCV002291827  criteria provided, single submitter  Uncertain significance   \n",
       "3  SCV001445903  criteria provided, single submitter       Likely pathogenic   \n",
       "4  SCV001449002  criteria provided, single submitter       Likely pathogenic   \n",
       "\n",
       "  variant_type                     hgvs_p          missense  \n",
       "0    Variation     NP_004306.3:p.Tyr52Cys  missense variant  \n",
       "1    Variation  NP_001309903.1:p.Arg71Lys  missense variant  \n",
       "2    Variation  NP_001309899.1:p.Gln90Glu  missense variant  \n",
       "3    Variation    NP_000276.2:p.Gly278Asp  missense variant  \n",
       "4    Variation    NP_000276.2:p.Gly448Arg  missense variant  "
      ]
     },
     "execution_count": 21,
     "metadata": {},
     "output_type": "execute_result"
    }
   ],
   "source": [
    "data=pd.read_csv(out,delimiter=';')\n",
    "data.head()"
   ]
  },
  {
   "cell_type": "markdown",
   "metadata": {},
   "source": []
  },
  {
   "cell_type": "code",
   "execution_count": 22,
   "metadata": {},
   "outputs": [
    {
     "data": {
      "text/plain": [
       "array(['Likely pathogenic', 'Pathogenic', 'Uncertain significance',\n",
       "       'Benign', 'Likely benign', 'uncertain', 'likely pathogenic',\n",
       "       'unknown', 'pathogenic', 'drug response', 'Uncertain Significance',\n",
       "       'Likely Benign', 'other', 'risk factor', 'Affects',\n",
       "       'Likely risk allele', 'MUT', 'benign', 'Uncertain risk allele',\n",
       "       'no known pathogenicity', 'Established risk allele',\n",
       "       'Pathogenic, low penetrance', 'association'], dtype=object)"
      ]
     },
     "execution_count": 22,
     "metadata": {},
     "output_type": "execute_result"
    }
   ],
   "source": [
    "data.clinical_sig.unique()"
   ]
  },
  {
   "cell_type": "code",
   "execution_count": 26,
   "metadata": {},
   "outputs": [
    {
     "data": {
      "text/plain": [
       "array(['Variation', 'single nucleotide variant', 'Indel',\n",
       "       'copy number gain', 'Insertion'], dtype=object)"
      ]
     },
     "execution_count": 26,
     "metadata": {},
     "output_type": "execute_result"
    }
   ],
   "source": [
    "data.variant_type.unique()"
   ]
  },
  {
   "attachments": {},
   "cell_type": "markdown",
   "metadata": {},
   "source": []
  },
  {
   "cell_type": "code",
   "execution_count": 32,
   "metadata": {},
   "outputs": [
    {
     "data": {
      "text/html": [
       "<div>\n",
       "<style scoped>\n",
       "    .dataframe tbody tr th:only-of-type {\n",
       "        vertical-align: middle;\n",
       "    }\n",
       "\n",
       "    .dataframe tbody tr th {\n",
       "        vertical-align: top;\n",
       "    }\n",
       "\n",
       "    .dataframe thead th {\n",
       "        text-align: right;\n",
       "    }\n",
       "</style>\n",
       "<table border=\"1\" class=\"dataframe\">\n",
       "  <thead>\n",
       "    <tr style=\"text-align: right;\">\n",
       "      <th></th>\n",
       "      <th>clinvar_id</th>\n",
       "      <th>review_status</th>\n",
       "      <th>clinical_sig</th>\n",
       "      <th>variant_type</th>\n",
       "      <th>hgvs_p</th>\n",
       "      <th>missense</th>\n",
       "    </tr>\n",
       "  </thead>\n",
       "  <tbody>\n",
       "    <tr>\n",
       "      <th>697</th>\n",
       "      <td>SCV000114620</td>\n",
       "      <td>criteria provided, single submitter</td>\n",
       "      <td>Uncertain significance</td>\n",
       "      <td>Indel</td>\n",
       "      <td>NP_733842.2:p.Trp2749Ser</td>\n",
       "      <td>missense variant</td>\n",
       "    </tr>\n",
       "    <tr>\n",
       "      <th>1962</th>\n",
       "      <td>SCV000227177</td>\n",
       "      <td>criteria provided, single submitter</td>\n",
       "      <td>Uncertain significance</td>\n",
       "      <td>Indel</td>\n",
       "      <td>NP_001012740.1:p.Arg79Met</td>\n",
       "      <td>missense variant</td>\n",
       "    </tr>\n",
       "    <tr>\n",
       "      <th>2245</th>\n",
       "      <td>SCV000231070</td>\n",
       "      <td>criteria provided, single submitter</td>\n",
       "      <td>Uncertain significance</td>\n",
       "      <td>Indel</td>\n",
       "      <td>NP_001163887.1:p.Tyr280Ile</td>\n",
       "      <td>missense variant</td>\n",
       "    </tr>\n",
       "    <tr>\n",
       "      <th>3564</th>\n",
       "      <td>SCV000250689</td>\n",
       "      <td>criteria provided, single submitter</td>\n",
       "      <td>Likely pathogenic</td>\n",
       "      <td>Indel</td>\n",
       "      <td>NP_003027.1:p.Leu167Gly</td>\n",
       "      <td>missense variant</td>\n",
       "    </tr>\n",
       "    <tr>\n",
       "      <th>6883</th>\n",
       "      <td>SCV000337663</td>\n",
       "      <td>criteria provided, single submitter</td>\n",
       "      <td>Uncertain significance</td>\n",
       "      <td>Indel</td>\n",
       "      <td>NP_490647.1:p.Lys320Ser</td>\n",
       "      <td>missense variant</td>\n",
       "    </tr>\n",
       "    <tr>\n",
       "      <th>...</th>\n",
       "      <td>...</td>\n",
       "      <td>...</td>\n",
       "      <td>...</td>\n",
       "      <td>...</td>\n",
       "      <td>...</td>\n",
       "      <td>...</td>\n",
       "    </tr>\n",
       "    <tr>\n",
       "      <th>634002</th>\n",
       "      <td>SCV001990765</td>\n",
       "      <td>criteria provided, single submitter</td>\n",
       "      <td>Uncertain significance</td>\n",
       "      <td>Indel</td>\n",
       "      <td>NP_000247.2:p.Ala848Trp</td>\n",
       "      <td>missense variant</td>\n",
       "    </tr>\n",
       "    <tr>\n",
       "      <th>634041</th>\n",
       "      <td>SCV001990282</td>\n",
       "      <td>criteria provided, single submitter</td>\n",
       "      <td>Uncertain significance</td>\n",
       "      <td>Indel</td>\n",
       "      <td>NP_001338763.1:p.Arg1466Pro</td>\n",
       "      <td>missense variant</td>\n",
       "    </tr>\n",
       "    <tr>\n",
       "      <th>634184</th>\n",
       "      <td>SCV001999140</td>\n",
       "      <td>criteria provided, single submitter</td>\n",
       "      <td>Uncertain significance</td>\n",
       "      <td>Indel</td>\n",
       "      <td>NP_002476.2:p.Gln451Pro</td>\n",
       "      <td>missense variant</td>\n",
       "    </tr>\n",
       "    <tr>\n",
       "      <th>635042</th>\n",
       "      <td>SCV002012747</td>\n",
       "      <td>criteria provided, single submitter</td>\n",
       "      <td>Uncertain significance</td>\n",
       "      <td>Indel</td>\n",
       "      <td>NP_000170.1:p.Pro92Leu</td>\n",
       "      <td>missense variant</td>\n",
       "    </tr>\n",
       "    <tr>\n",
       "      <th>635128</th>\n",
       "      <td>SCV002012710</td>\n",
       "      <td>criteria provided, single submitter</td>\n",
       "      <td>Uncertain significance</td>\n",
       "      <td>Indel</td>\n",
       "      <td>NP_001035957.1:p.Ser1524Lys</td>\n",
       "      <td>missense variant</td>\n",
       "    </tr>\n",
       "  </tbody>\n",
       "</table>\n",
       "<p>298 rows × 6 columns</p>\n",
       "</div>"
      ],
      "text/plain": [
       "          clinvar_id                        review_status  \\\n",
       "697     SCV000114620  criteria provided, single submitter   \n",
       "1962    SCV000227177  criteria provided, single submitter   \n",
       "2245    SCV000231070  criteria provided, single submitter   \n",
       "3564    SCV000250689  criteria provided, single submitter   \n",
       "6883    SCV000337663  criteria provided, single submitter   \n",
       "...              ...                                  ...   \n",
       "634002  SCV001990765  criteria provided, single submitter   \n",
       "634041  SCV001990282  criteria provided, single submitter   \n",
       "634184  SCV001999140  criteria provided, single submitter   \n",
       "635042  SCV002012747  criteria provided, single submitter   \n",
       "635128  SCV002012710  criteria provided, single submitter   \n",
       "\n",
       "                  clinical_sig variant_type                       hgvs_p  \\\n",
       "697     Uncertain significance        Indel     NP_733842.2:p.Trp2749Ser   \n",
       "1962    Uncertain significance        Indel    NP_001012740.1:p.Arg79Met   \n",
       "2245    Uncertain significance        Indel   NP_001163887.1:p.Tyr280Ile   \n",
       "3564         Likely pathogenic        Indel      NP_003027.1:p.Leu167Gly   \n",
       "6883    Uncertain significance        Indel      NP_490647.1:p.Lys320Ser   \n",
       "...                        ...          ...                          ...   \n",
       "634002  Uncertain significance        Indel      NP_000247.2:p.Ala848Trp   \n",
       "634041  Uncertain significance        Indel  NP_001338763.1:p.Arg1466Pro   \n",
       "634184  Uncertain significance        Indel      NP_002476.2:p.Gln451Pro   \n",
       "635042  Uncertain significance        Indel       NP_000170.1:p.Pro92Leu   \n",
       "635128  Uncertain significance        Indel  NP_001035957.1:p.Ser1524Lys   \n",
       "\n",
       "                missense  \n",
       "697     missense variant  \n",
       "1962    missense variant  \n",
       "2245    missense variant  \n",
       "3564    missense variant  \n",
       "6883    missense variant  \n",
       "...                  ...  \n",
       "634002  missense variant  \n",
       "634041  missense variant  \n",
       "634184  missense variant  \n",
       "635042  missense variant  \n",
       "635128  missense variant  \n",
       "\n",
       "[298 rows x 6 columns]"
      ]
     },
     "execution_count": 32,
     "metadata": {},
     "output_type": "execute_result"
    }
   ],
   "source": [
    "data[data.variant_type=='Indel']"
   ]
  },
  {
   "cell_type": "code",
   "execution_count": 25,
   "metadata": {},
   "outputs": [
    {
     "data": {
      "text/html": [
       "<div>\n",
       "<style scoped>\n",
       "    .dataframe tbody tr th:only-of-type {\n",
       "        vertical-align: middle;\n",
       "    }\n",
       "\n",
       "    .dataframe tbody tr th {\n",
       "        vertical-align: top;\n",
       "    }\n",
       "\n",
       "    .dataframe thead th {\n",
       "        text-align: right;\n",
       "    }\n",
       "</style>\n",
       "<table border=\"1\" class=\"dataframe\">\n",
       "  <thead>\n",
       "    <tr style=\"text-align: right;\">\n",
       "      <th></th>\n",
       "      <th>clinvar_id</th>\n",
       "      <th>review_status</th>\n",
       "      <th>clinical_sig</th>\n",
       "      <th>variant_type</th>\n",
       "      <th>hgvs_p</th>\n",
       "      <th>missense</th>\n",
       "    </tr>\n",
       "  </thead>\n",
       "  <tbody>\n",
       "  </tbody>\n",
       "</table>\n",
       "</div>"
      ],
      "text/plain": [
       "Empty DataFrame\n",
       "Columns: [clinvar_id, review_status, clinical_sig, variant_type, hgvs_p, missense]\n",
       "Index: []"
      ]
     },
     "execution_count": 25,
     "metadata": {},
     "output_type": "execute_result"
    }
   ],
   "source": [
    "data[data.variant_type=='Duplication']"
   ]
  },
  {
   "cell_type": "markdown",
   "metadata": {},
   "source": []
  },
  {
   "cell_type": "code",
   "execution_count": 30,
   "metadata": {},
   "outputs": [
    {
     "data": {
      "text/html": [
       "<div>\n",
       "<style scoped>\n",
       "    .dataframe tbody tr th:only-of-type {\n",
       "        vertical-align: middle;\n",
       "    }\n",
       "\n",
       "    .dataframe tbody tr th {\n",
       "        vertical-align: top;\n",
       "    }\n",
       "\n",
       "    .dataframe thead th {\n",
       "        text-align: right;\n",
       "    }\n",
       "</style>\n",
       "<table border=\"1\" class=\"dataframe\">\n",
       "  <thead>\n",
       "    <tr style=\"text-align: right;\">\n",
       "      <th></th>\n",
       "      <th>clinvar_id</th>\n",
       "      <th>review_status</th>\n",
       "      <th>clinical_sig</th>\n",
       "      <th>uniprot_kb</th>\n",
       "      <th>variant_type</th>\n",
       "      <th>hgvs_p</th>\n",
       "      <th>missense</th>\n",
       "    </tr>\n",
       "  </thead>\n",
       "  <tbody>\n",
       "    <tr>\n",
       "      <th>1361</th>\n",
       "      <td>RCV000207037</td>\n",
       "      <td>criteria provided, single submitter</td>\n",
       "      <td>Uncertain significance</td>\n",
       "      <td>O00754#VAR_068061</td>\n",
       "      <td>Complex</td>\n",
       "      <td>O00754:p.Gly800Trp</td>\n",
       "      <td>synonymous variant</td>\n",
       "    </tr>\n",
       "    <tr>\n",
       "      <th>2812</th>\n",
       "      <td>RCV001844011</td>\n",
       "      <td>criteria provided, single submitter</td>\n",
       "      <td>Pathogenic</td>\n",
       "      <td>P10828#VAR_004634</td>\n",
       "      <td>Complex</td>\n",
       "      <td>P10828:p.Arg316His</td>\n",
       "      <td>missense variant</td>\n",
       "    </tr>\n",
       "  </tbody>\n",
       "</table>\n",
       "</div>"
      ],
      "text/plain": [
       "        clinvar_id                        review_status  \\\n",
       "1361  RCV000207037  criteria provided, single submitter   \n",
       "2812  RCV001844011  criteria provided, single submitter   \n",
       "\n",
       "                clinical_sig         uniprot_kb variant_type  \\\n",
       "1361  Uncertain significance  O00754#VAR_068061      Complex   \n",
       "2812              Pathogenic  P10828#VAR_004634      Complex   \n",
       "\n",
       "                  hgvs_p            missense  \n",
       "1361  O00754:p.Gly800Trp  synonymous variant  \n",
       "2812  P10828:p.Arg316His    missense variant  "
      ]
     },
     "execution_count": 30,
     "metadata": {},
     "output_type": "execute_result"
    }
   ],
   "source": [
    "data[data.variant_type=='Complex']"
   ]
  },
  {
   "cell_type": "code",
   "execution_count": 33,
   "metadata": {},
   "outputs": [],
   "source": [
    "missense_data=data[data.missense=='missense variant']"
   ]
  },
  {
   "attachments": {},
   "cell_type": "markdown",
   "metadata": {},
   "source": [
    "# Process clinical significance"
   ]
  },
  {
   "attachments": {},
   "cell_type": "markdown",
   "metadata": {},
   "source": [
    "what is protective?"
   ]
  },
  {
   "cell_type": "code",
   "execution_count": 35,
   "metadata": {},
   "outputs": [],
   "source": [
    "def if_positive_or_negative(string):\n",
    "    if string in ['Pathogenic', \n",
    "                'Pathogenic/Likely pathogenic', \n",
    "                'probable-pathogenic',\n",
    "                'Likely pathogenic', \n",
    "                'pathologic', \n",
    "                'pathogenic',\n",
    "                'likely pathogenic',\n",
    "                'Pathogenic/Likely pathogenic/Established risk allele',\n",
    "                'likely pathogenic - adrenal pheochromocytoma',\n",
    "                'Pathogenic/Pathogenic, low penetrance']:\n",
    "        return 1\n",
    "    elif string in ['Benign',\n",
    "                'Likely benign',\n",
    "                'Benign/Likely benign',\n",
    "                'non-pathogenic', \n",
    "                'benign', 'probable-non-pathogenic', 'Likely Benign', 'probably not pathogenic',\n",
    "    ]:\n",
    "        return -1\n",
    "\n",
    "    else: return 0\n"
   ]
  },
  {
   "cell_type": "code",
   "execution_count": null,
   "metadata": {},
   "outputs": [],
   "source": [
    "missense_data['label']='1'"
   ]
  },
  {
   "cell_type": "code",
   "execution_count": 12,
   "metadata": {},
   "outputs": [],
   "source": [
    "def generate_example(start,end):\n",
    "    with open('/home/grads/z/zshuying/Documents/shuying/ppi_mutation/data/clinvar/ClinVarFullRelease_00-latest.xml', 'r') as f_in:\n",
    "        with open('/home/grads/z/zshuying/Documents/shuying/ppi_mutation/data/clinvar/example_'+str(start)+'_'+str(end)+'.xml','w') as f_out:\n",
    "            line_count=0\n",
    "            while True:\n",
    "                line=f_in.readline()\n",
    "                line_count+=1\n",
    "                if line_count>start and line_count<end:\n",
    "                    f_out.write(line)\n",
    "                if line_count>end:\n",
    "                    break\n",
    "\n",
    "def find_line(content):\n",
    "    with open('/home/grads/z/zshuying/Documents/shuying/ppi_mutation/data/clinvar/ClinVarFullRelease_00-latest.xml', 'r') as f_in:\n",
    "            line_count=0\n",
    "\n",
    "            while True:\n",
    "                line=f_in.readline()\n",
    "                line_count+=1\n",
    "\n",
    "                if content in line:\n",
    "                    print(line_count)\n",
    "                    break"
   ]
  },
  {
   "cell_type": "code",
   "execution_count": 30,
   "metadata": {},
   "outputs": [],
   "source": [
    "generate_example(554695631,554696331)"
   ]
  },
  {
   "cell_type": "code",
   "execution_count": 28,
   "metadata": {},
   "outputs": [
    {
     "name": "stdout",
     "output_type": "stream",
     "text": [
      "554696231\n"
     ]
    }
   ],
   "source": [
    "find_line('SCV002515940')"
   ]
  },
  {
   "cell_type": "code",
   "execution_count": null,
   "metadata": {},
   "outputs": [],
   "source": [
    "RCV000203850 L936 (932-1335)\n",
    "SCV000259045 L1117\n",
    "\n",
    "delayed one\n",
    "\n",
    "SCV000258941 L1257"
   ]
  }
 ],
 "metadata": {
  "kernelspec": {
   "display_name": "shuying",
   "language": "python",
   "name": "python3"
  },
  "language_info": {
   "codemirror_mode": {
    "name": "ipython",
    "version": 3
   },
   "file_extension": ".py",
   "mimetype": "text/x-python",
   "name": "python",
   "nbconvert_exporter": "python",
   "pygments_lexer": "ipython3",
   "version": "3.10.6 (main, Oct  7 2022, 20:19:58) [GCC 11.2.0]"
  },
  "orig_nbformat": 4,
  "vscode": {
   "interpreter": {
    "hash": "ea132143862a5a1585a78ca35dc11c6c8e0adb2bc2e6416d63c557466f5bb992"
   }
  }
 },
 "nbformat": 4,
 "nbformat_minor": 2
}
