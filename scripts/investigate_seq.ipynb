{
 "cells": [
  {
   "cell_type": "code",
   "execution_count": 10,
   "metadata": {},
   "outputs": [],
   "source": [
    "import pandas as pd \n",
    "df=pd.read_csv('/scratch/user/zshuying/ppi_mutation/data/2019_1_sequences.csv')"
   ]
  },
  {
   "attachments": {},
   "cell_type": "markdown",
   "metadata": {},
   "source": [
    "# merge Label and label and discard empty"
   ]
  },
  {
   "cell_type": "code",
   "execution_count": 12,
   "metadata": {},
   "outputs": [],
   "source": [
    "df.loc[df['Label'].isna(),'Label']=df['label']"
   ]
  },
  {
   "cell_type": "code",
   "execution_count": 25,
   "metadata": {},
   "outputs": [],
   "source": [
    "df=df.dropna(subset='Label')\n",
    "df=df.loc[:,['#AlleleID','Label','UniProt','Name','Seq']]"
   ]
  },
  {
   "attachments": {},
   "cell_type": "markdown",
   "metadata": {},
   "source": [
    "# deal with Seq"
   ]
  },
  {
   "cell_type": "code",
   "execution_count": 26,
   "metadata": {},
   "outputs": [
    {
     "data": {
      "text/html": [
       "<div>\n",
       "<style scoped>\n",
       "    .dataframe tbody tr th:only-of-type {\n",
       "        vertical-align: middle;\n",
       "    }\n",
       "\n",
       "    .dataframe tbody tr th {\n",
       "        vertical-align: top;\n",
       "    }\n",
       "\n",
       "    .dataframe thead th {\n",
       "        text-align: right;\n",
       "    }\n",
       "</style>\n",
       "<table border=\"1\" class=\"dataframe\">\n",
       "  <thead>\n",
       "    <tr style=\"text-align: right;\">\n",
       "      <th></th>\n",
       "      <th>#AlleleID</th>\n",
       "      <th>Label</th>\n",
       "      <th>UniProt</th>\n",
       "      <th>Name</th>\n",
       "      <th>Seq</th>\n",
       "    </tr>\n",
       "  </thead>\n",
       "  <tbody>\n",
       "    <tr>\n",
       "      <th>11304</th>\n",
       "      <td>228118</td>\n",
       "      <td>1.0</td>\n",
       "      <td>P01130</td>\n",
       "      <td>NM_000527.4(LDLR):c.82G&gt;T (p.Glu28Ter)</td>\n",
       "      <td>MGPWGWKLRWTVALLLAAAGTAVGDRC*RNEFQCQDGKCISYKWVC...</td>\n",
       "    </tr>\n",
       "    <tr>\n",
       "      <th>11306</th>\n",
       "      <td>228122</td>\n",
       "      <td>1.0</td>\n",
       "      <td>P01130</td>\n",
       "      <td>NM_000527.4(LDLR):c.246C&gt;A (p.Cys82Ter)</td>\n",
       "      <td>MGPWGWKLRWTVALLLAAAGTAVGDRCERNEFQCQDGKCISYKWVC...</td>\n",
       "    </tr>\n",
       "    <tr>\n",
       "      <th>11308</th>\n",
       "      <td>228124</td>\n",
       "      <td>1.0</td>\n",
       "      <td>P01130</td>\n",
       "      <td>NM_000527.4(LDLR):c.253C&gt;T (p.Gln85Ter)</td>\n",
       "      <td>MGPWGWKLRWTVALLLAAAGTAVGDRCERNEFQCQDGKCISYKWVC...</td>\n",
       "    </tr>\n",
       "    <tr>\n",
       "      <th>11311</th>\n",
       "      <td>228127</td>\n",
       "      <td>1.0</td>\n",
       "      <td>P01130</td>\n",
       "      <td>NM_000527.4(LDLR):c.304C&gt;T (p.Gln102Ter)</td>\n",
       "      <td>MGPWGWKLRWTVALLLAAAGTAVGDRCERNEFQCQDGKCISYKWVC...</td>\n",
       "    </tr>\n",
       "    <tr>\n",
       "      <th>11314</th>\n",
       "      <td>228133</td>\n",
       "      <td>1.0</td>\n",
       "      <td>P01130</td>\n",
       "      <td>NM_000527.4(LDLR):c.337G&gt;T (p.Glu113Ter)</td>\n",
       "      <td>MGPWGWKLRWTVALLLAAAGTAVGDRCERNEFQCQDGKCISYKWVC...</td>\n",
       "    </tr>\n",
       "    <tr>\n",
       "      <th>...</th>\n",
       "      <td>...</td>\n",
       "      <td>...</td>\n",
       "      <td>...</td>\n",
       "      <td>...</td>\n",
       "      <td>...</td>\n",
       "    </tr>\n",
       "    <tr>\n",
       "      <th>24979</th>\n",
       "      <td>178554</td>\n",
       "      <td>1.0</td>\n",
       "      <td>P15924</td>\n",
       "      <td>NM_004415.3(DSP):c.2821C&gt;T (p.Arg941Ter)</td>\n",
       "      <td>MSCNGGSHPRINTLGRMIRAESGPDLRYEVTSGGGGTSRMYYSRRG...</td>\n",
       "    </tr>\n",
       "    <tr>\n",
       "      <th>24980</th>\n",
       "      <td>178574</td>\n",
       "      <td>1.0</td>\n",
       "      <td>Q12809</td>\n",
       "      <td>NM_000238.3(KCNH2):c.2230C&gt;T (p.Arg744Ter)</td>\n",
       "      <td>MPVRRGHVAPQNTFLDTIIRKFEGQSRKFIIANARVENCAVIYCND...</td>\n",
       "    </tr>\n",
       "    <tr>\n",
       "      <th>24981</th>\n",
       "      <td>178578</td>\n",
       "      <td>1.0</td>\n",
       "      <td>Q12809</td>\n",
       "      <td>NM_000238.3(KCNH2):c.685G&gt;T (p.Glu229Ter)</td>\n",
       "      <td>MPVRRGHVAPQNTFLDTIIRKFEGQSRKFIIANARVENCAVIYCND...</td>\n",
       "    </tr>\n",
       "    <tr>\n",
       "      <th>24990</th>\n",
       "      <td>178913</td>\n",
       "      <td>1.0</td>\n",
       "      <td>P45379</td>\n",
       "      <td>NM_001001430.2(TNNT2):c.861G&gt;A (p.Trp287Ter)</td>\n",
       "      <td>MSDIEEVVEEYEEEEQEEAAVEEEEDWREDEDEQEEAAEEDAEAEA...</td>\n",
       "    </tr>\n",
       "    <tr>\n",
       "      <th>25000</th>\n",
       "      <td>178946</td>\n",
       "      <td>1.0</td>\n",
       "      <td>P45379</td>\n",
       "      <td>NM_001001430.2(TNNT2):c.319G&gt;T (p.Glu107Ter)</td>\n",
       "      <td>MSDIEEVVEEYEEEEQEEAAVEEEEDWREDEDEQEEAAEEDAEAEA...</td>\n",
       "    </tr>\n",
       "  </tbody>\n",
       "</table>\n",
       "<p>3322 rows × 5 columns</p>\n",
       "</div>"
      ],
      "text/plain": [
       "       #AlleleID  Label UniProt                                          Name  \\\n",
       "11304     228118    1.0  P01130        NM_000527.4(LDLR):c.82G>T (p.Glu28Ter)   \n",
       "11306     228122    1.0  P01130       NM_000527.4(LDLR):c.246C>A (p.Cys82Ter)   \n",
       "11308     228124    1.0  P01130       NM_000527.4(LDLR):c.253C>T (p.Gln85Ter)   \n",
       "11311     228127    1.0  P01130      NM_000527.4(LDLR):c.304C>T (p.Gln102Ter)   \n",
       "11314     228133    1.0  P01130      NM_000527.4(LDLR):c.337G>T (p.Glu113Ter)   \n",
       "...          ...    ...     ...                                           ...   \n",
       "24979     178554    1.0  P15924      NM_004415.3(DSP):c.2821C>T (p.Arg941Ter)   \n",
       "24980     178574    1.0  Q12809    NM_000238.3(KCNH2):c.2230C>T (p.Arg744Ter)   \n",
       "24981     178578    1.0  Q12809     NM_000238.3(KCNH2):c.685G>T (p.Glu229Ter)   \n",
       "24990     178913    1.0  P45379  NM_001001430.2(TNNT2):c.861G>A (p.Trp287Ter)   \n",
       "25000     178946    1.0  P45379  NM_001001430.2(TNNT2):c.319G>T (p.Glu107Ter)   \n",
       "\n",
       "                                                     Seq  \n",
       "11304  MGPWGWKLRWTVALLLAAAGTAVGDRC*RNEFQCQDGKCISYKWVC...  \n",
       "11306  MGPWGWKLRWTVALLLAAAGTAVGDRCERNEFQCQDGKCISYKWVC...  \n",
       "11308  MGPWGWKLRWTVALLLAAAGTAVGDRCERNEFQCQDGKCISYKWVC...  \n",
       "11311  MGPWGWKLRWTVALLLAAAGTAVGDRCERNEFQCQDGKCISYKWVC...  \n",
       "11314  MGPWGWKLRWTVALLLAAAGTAVGDRCERNEFQCQDGKCISYKWVC...  \n",
       "...                                                  ...  \n",
       "24979  MSCNGGSHPRINTLGRMIRAESGPDLRYEVTSGGGGTSRMYYSRRG...  \n",
       "24980  MPVRRGHVAPQNTFLDTIIRKFEGQSRKFIIANARVENCAVIYCND...  \n",
       "24981  MPVRRGHVAPQNTFLDTIIRKFEGQSRKFIIANARVENCAVIYCND...  \n",
       "24990  MSDIEEVVEEYEEEEQEEAAVEEEEDWREDEDEQEEAAEEDAEAEA...  \n",
       "25000  MSDIEEVVEEYEEEEQEEAAVEEEEDWREDEDEQEEAAEEDAEAEA...  \n",
       "\n",
       "[3322 rows x 5 columns]"
      ]
     },
     "execution_count": 26,
     "metadata": {},
     "output_type": "execute_result"
    }
   ],
   "source": [
    "# discard * \n",
    "df=df.dropna(subset='Seq')\n",
    "\n",
    "df[['*' in seq for seq in df['Seq'].tolist()]]\n",
    "\n"
   ]
  },
  {
   "cell_type": "code",
   "execution_count": 30,
   "metadata": {},
   "outputs": [],
   "source": [
    "df['Seq']=df['Seq'].apply(lambda x: x.split('*')[0] if '*' in x else x)\n"
   ]
  },
  {
   "cell_type": "code",
   "execution_count": 32,
   "metadata": {},
   "outputs": [],
   "source": [
    "df.to_csv('2019_1_sequences_terminated.csv')"
   ]
  },
  {
   "cell_type": "code",
   "execution_count": null,
   "metadata": {},
   "outputs": [
    {
     "ename": "",
     "evalue": "",
     "output_type": "error",
     "traceback": [
      "\u001b[1;31mFailed to start the Kernel. \n",
      "\u001b[1;31mThe Jupyter notebook server failed to launch in time. \n",
      "\u001b[1;31mView Jupyter <a href='command:jupyter.viewOutput'>log</a> for further details."
     ]
    }
   ],
   "source": [
    "df['Len']=df['Seq'].apply(lambda x: len(x))"
   ]
  },
  {
   "cell_type": "code",
   "execution_count": null,
   "metadata": {},
   "outputs": [],
   "source": []
  }
 ],
 "metadata": {
  "kernelspec": {
   "display_name": "shuying",
   "language": "python",
   "name": "python3"
  },
  "language_info": {
   "codemirror_mode": {
    "name": "ipython",
    "version": 3
   },
   "file_extension": ".py",
   "mimetype": "text/x-python",
   "name": "python",
   "nbconvert_exporter": "python",
   "pygments_lexer": "ipython3",
   "version": "3.10.10"
  },
  "orig_nbformat": 4
 },
 "nbformat": 4,
 "nbformat_minor": 2
}
