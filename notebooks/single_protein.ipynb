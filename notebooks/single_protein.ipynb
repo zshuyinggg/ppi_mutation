{
 "cells": [],
 "metadata": {
  "kernelspec": {
   "display_name": "shuying",
   "language": "python",
   "name": "python3"
  },
  "language_info": {
   "codemirror_mode": {
    "name": "ipython",
    "version": 3
   },
   "file_extension": ".py",
   "mimetype": "text/x-python",
   "name": "python",
   "nbconvert_exporter": "python",
   "pygments_lexer": "ipython3",
   "version": "3.10.6"
  },
  "orig_nbformat": 4,
  "vscode": {
   "interpreter": {
    "hash": "ea132143862a5a1585a78ca35dc11c6c8e0adb2bc2e6416d63c557466f5bb992"
   }
  }
 },
 "nbformat": 4,
 "nbformat_minor": 2
}