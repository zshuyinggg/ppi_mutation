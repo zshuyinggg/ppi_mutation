{
 "cells": [
  {
   "cell_type": "code",
   "execution_count": null,
   "metadata": {
    "pycharm": {
     "name": "#%%\n"
    }
   },
   "outputs": [],
   "source": [
    "top_path = '/scratch/user/zshuying/ppi_mutation/scripts'\n",
    "clinvar_path='/scratch/user/zshuying/ppi_mutation/data/clinvar/'\n",
    "process_path='/scratch/user/zshuying/ppi_mutation/data/baseline1/processed/''\n",
    "import torch\n",
    "from sklearn.decomposition import PCA\n",
    "from torch.utils.data import Dataset\n",
    "global top_path  # the path of the top_level directory\n",
    "global script_path, data_path, logging_path\n",
    "import os, sys\n",
    "sys.path.append(top_path)\n",
    "from torch.utils.data import DataLoader\n",
    "import esm\n",
    "from baseline0.datasets import *\n",
    "import numpy as np\n",
    "from argparse import ArgumentParser\n",
    "from lightning.pytorch.callbacks.early_stopping import EarlyStopping\n",
    "from baseline0.model import *\n",
    "import pandas as pd\n",
    "from sklearn.decomposition import PCA\n",
    "import umap\n",
    "import matplotlib.pyplot as plt\n",
    "\n",
    "pj=os.path.join\n",
    "\n",
    "\n"
   ]
  },
  {
   "cell_type": "code",
   "execution_count": null,
   "metadata": {},
   "outputs": [],
   "source": [
    "# Read_data_function()\n",
    "def read_data(train_list_name,val_list_name,test_list_name,train_val_path,test_path,ppi_path=pj(top_path,'ppi_seq_huri_humap.csv')):\n",
    "        train_val_df,test_df=\n",
    "    \n",
    "\n",
    "test_set=pd.read_csv('/scratch/user/zshuying/ppi_mutation/data/clinvar/mutant_seq_2019_test_no_error.csv'\n",
    ")\n",
    "with open('/scratch/user/zshuying/ppi_mutation/data/baseline1/processed/2019_test_name_list_1050.txt','r') as f:\n",
    "    test_list=eval(f.readline())\n",
    "with open('/scratch/user/zshuying/ppi_mutation/data/baseline1/processed/2019_train_name_list_1050.txt','r') as f:\n",
    "    train_list=eval(f.readline())\n",
    "with open('/scratch/user/zshuying/ppi_mutation/data/baseline1/processed/2019_val_name_list_1050.txt','r') as f:\n",
    "    val_list=eval(f.readline())\n",
    "train_val=pd.read_csv('/scratch/user/zshuying/ppi_mutation/data/clinvar/mutant_seq_2019_1_no_error.csv')\n",
    "test_actual_df=test_set[test_set['Name'].apply(lambda x:x in test_list)]\n",
    "test_uniprot=set(test_actual_df.UniProt.unique().tolist())\n",
    "train_actual_df=train_val[train_val['Name'].apply(lambda x:x in train_list)]\n",
    "train_uniprot=set(train_actual_df.UniProt.unique().tolist())\n",
    "val_actual_df=train_val[train_val['Name'].apply(lambda x:x in val_list)]\n",
    "val_uniprot=set(val_actual_df.UniProt.unique().tolist())"
   ]
  },
  {
   "cell_type": "markdown",
   "metadata": {},
   "source": [
    "### Visualizations of wild embeddings from esm2_t6_8M_UR50D()"
   ]
  },
  {
   "cell_type": "code",
   "execution_count": null,
   "metadata": {
    "pycharm": {
     "name": "#%%\n"
    }
   },
   "outputs": [],
   "source": [
    "pth=torch.load('/scratch/user/zshuying/ppi_mutation/data/baseline1/all_wild_esm_embds.pt')\n",
    "seqs=[]\n",
    "y=[]\n",
    "uniprots=pd.read_csv('/scratch/user/zshuying/ppi_mutation/ppi_seq_huri_humap.csv')['UniProt'].unique().tolist()\n",
    "for uniprot in uniprots:\n",
    "    seqs.append(pth[uniprot]['embs'])\n",
    "    if uniprot in train_uniprot:\n",
    "        y.append(0)\n",
    "    elif uniprot in val_uniprot:\n",
    "        y.append(1)\n",
    "    elif uniprot in test_uniprot:\n",
    "        y.append(2)\n",
    "    else:\n",
    "        y.append(3)\n",
    "# seqs: 11186 * 320"
   ]
  },
  {
   "cell_type": "code",
   "execution_count": null,
   "metadata": {
    "pycharm": {
     "name": "#%%\n"
    }
   },
   "outputs": [],
   "source": [
    "seqs_data=np.array(seqs)"
   ]
  },
  {
   "cell_type": "code",
   "execution_count": null,
   "metadata": {
    "pycharm": {
     "name": "#%%\n"
    }
   },
   "outputs": [],
   "source": [
    "seqs_data.shape"
   ]
  },
  {
   "cell_type": "code",
   "execution_count": null,
   "metadata": {
    "pycharm": {
     "name": "#%%\n"
    }
   },
   "outputs": [],
   "source": [
    "umap_reducer=umap.UMAP(n_neighbors=20)\n",
    "embedding_reduced = umap_reducer.fit_transform(seqs)"
   ]
  },
  {
   "cell_type": "code",
   "execution_count": null,
   "metadata": {
    "pycharm": {
     "name": "#%%\n"
    }
   },
   "outputs": [],
   "source": [
    "cdict = {0: ('green',0.5),1: ('green',0.5), 2: ('green',0.5), 3: ('orange',0.5)}\n",
    "colored_y=[cdict[y] for y in y]\n",
    "plt.scatter(embedding_reduced[:, 0], embedding_reduced[:, 1], s= 5,c=colored_y)\n",
    "plt.title('Embedding of the wild proteins from ESM by UMAP', fontsize=24);\n",
    "# plt.legend(markers, ['train_wild','val_wild','test_wild','ppi_wild not variant'], numpoints=1)"
   ]
  },
  {
   "cell_type": "code",
   "execution_count": null,
   "metadata": {
    "pycharm": {
     "name": "#%%\n"
    }
   },
   "outputs": [],
   "source": [
    "cdict = {0: ('green',0),1: ('orange',1), 2: ('blue',0.5), 3: ('green',0)}\n",
    "colored_y=[cdict[y] for y in y]\n",
    "marker_size_dict=[3,8,3,3]\n",
    "marker_y=[marker_size_dict[y] for y in y]\n",
    "fig_dims = (10, 10)\n",
    "fig, ax = plt.subplots(figsize=fig_dims)\n",
    "sc = ax.scatter(embedding_reduced[:, 0], embedding_reduced[:, 1], s= marker_y,c=colored_y)\n",
    "plt.title('Embedding of the wild proteins from ESM by UMAP');\n",
    "markers = [plt.Line2D([0,0],[0,0],color=color, marker='o', linestyle='') for color in cdict.values()]\n",
    "plt.legend(markers, ['train_wild','val_wild','test_wild','ppi_wild not variant'], numpoints=1,fontsize=16)"
   ]
  },
  {
   "cell_type": "code",
   "execution_count": null,
   "metadata": {
    "pycharm": {
     "name": "#%%\n"
    }
   },
   "outputs": [],
   "source": [
    "cdict = {0: ('green',0.5),1: ('green',0.5), 2: ('green',0.5), 3: ('orange',0.5)}\n",
    "colored_y=[cdict[y] for y in y]\n",
    "\n",
    "pca = PCA(20)\n",
    "X= pca.fit_transform(seqs)\n",
    "fig_dims = (7, 6)\n",
    "fig, ax = plt.subplots(figsize=fig_dims)\n",
    "sc = ax.scatter(X[:,0], X[:,1], c=colored_y, marker='.')\n",
    "ax.set_xlabel('PCA first principal component')\n",
    "ax.set_ylabel('PCA second principal component')\n",
    "markers = [plt.Line2D([0,0],[0,0],color=color, marker='o', linestyle='') for color in cdict.values()]\n",
    "plt.legend(markers, ['train_wild','val_wild','test_wild','ppi_wild not variant'], numpoints=1,fontsize=\"8\")\n",
    "plt.title('Visualization of first two components from 20-components PCA for all wild data. Train val split seed is 1050')"
   ]
  },
  {
   "cell_type": "code",
   "execution_count": null,
   "metadata": {
    "pycharm": {
     "name": "#%%\n"
    }
   },
   "outputs": [],
   "source": [
    "cdict = {0: ('green',0.5),1: ('green',0.5), 2: ('green',0.5), 3: ('orange',0.5)}\n",
    "colored_y=[cdict[y] for y in y]\n",
    "\n",
    "pca = PCA(20)\n",
    "X= pca.fit_transform(seqs)\n",
    "fig_dims = (7, 6)\n",
    "fig, ax = plt.subplots(figsize=fig_dims)\n",
    "sc = ax.scatter(X[:,0], X[:,1], c=colored_y, marker='.')\n",
    "ax.set_xlabel('PCA first principal component')\n",
    "ax.set_ylabel('PCA second principal component')\n",
    "markers = [plt.Line2D([0,0],[0,0],color=color, marker='o', linestyle='') for color in cdict.values()]\n",
    "plt.legend(markers, ['train_wild','val_wild','test_wild','ppi_wild not variant'], numpoints=1)\n",
    "plt.title('Visualization of first two components from 20-components PCA for all wild data. Train val split seed is 1050')"
   ]
  },
  {
   "cell_type": "markdown",
   "metadata": {},
   "source": [
    "### Visualizations of Embeddings from esm2_t6_8M_UR50D()\n",
    "#### It does not work ---- try a larger model"
   ]
  },
  {
   "cell_type": "code",
   "execution_count": null,
   "metadata": {
    "pycharm": {
     "name": "#%%\n"
    }
   },
   "outputs": [],
   "source": [
    "seq=torch.load('/scratch/user/zshuying/ppi_mutation/data/2019_all_esm_embeddings.pt')\n",
    "label=torch.load('/scratch/user/zshuying/ppi_mutation/data/2019_all_labels_for_embeddings.pt')\n",
    "from sklearn.decomposition import PCA\n",
    "pca = PCA(20)\n",
    "X= pca.fit_transform(seq)\n",
    "fig_dims = (7, 6)\n",
    "fig, ax = plt.subplots(figsize=fig_dims)\n",
    "sc = ax.scatter(X[:,0], X[:,1], c=label, marker='.')\n",
    "ax.set_xlabel('PCA first principal component')\n",
    "ax.set_ylabel('PCA second principal component')\n",
    "plt.colorbar(sc, label='Variant Effect')"
   ]
  },
  {
   "cell_type": "code",
   "execution_count": null,
   "metadata": {
    "pycharm": {
     "name": "#%%\n"
    }
   },
   "outputs": [],
   "source": []
  }
 ],
 "metadata": {
  "kernelspec": {
   "display_name": "Python [conda env:.conda-gnn] *",
   "language": "python",
   "name": "conda-env-.conda-gnn-py"
  },
  "language_info": {
   "codemirror_mode": {
    "name": "ipython",
    "version": 3
   },
   "file_extension": ".py",
   "mimetype": "text/x-python",
   "name": "python",
   "nbconvert_exporter": "python",
   "pygments_lexer": "ipython3",
   "version": "3.10.13"
  }
 },
 "nbformat": 4,
 "nbformat_minor": 2
}
