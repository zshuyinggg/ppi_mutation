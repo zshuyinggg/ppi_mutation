{
 "cells": [
  {
   "cell_type": "code",
   "execution_count": 8,
   "metadata": {
    "collapsed": true
   },
   "outputs": [
    {
     "ename": "ModuleNotFoundError",
     "evalue": "No module named 'Bio'",
     "output_type": "error",
     "traceback": [
      "\u001b[0;31m---------------------------------------------------------------------------\u001b[0m",
      "\u001b[0;31mModuleNotFoundError\u001b[0m                       Traceback (most recent call last)",
      "Input \u001b[0;32mIn [8]\u001b[0m, in \u001b[0;36m<cell line: 12>\u001b[0;34m()\u001b[0m\n\u001b[1;32m      9\u001b[0m sys\u001b[38;5;241m.\u001b[39mpath\u001b[38;5;241m.\u001b[39mappend(top_path)\n\u001b[1;32m     10\u001b[0m \u001b[38;5;66;03m# from scripts.baseline0.datasets import *\u001b[39;00m\n\u001b[1;32m     11\u001b[0m \u001b[38;5;66;03m# from scripts.baseline0.model import *\u001b[39;00m\n\u001b[0;32m---> 12\u001b[0m \u001b[38;5;28;01mfrom\u001b[39;00m \u001b[38;5;21;01mscripts\u001b[39;00m\u001b[38;5;21;01m.\u001b[39;00m\u001b[38;5;21;01mutils\u001b[39;00m \u001b[38;5;28;01mimport\u001b[39;00m \u001b[38;5;241m*\u001b[39m\n\u001b[1;32m     13\u001b[0m \u001b[38;5;28;01mglobal\u001b[39;00m top_path  \u001b[38;5;66;03m# the path of the top_level directory\u001b[39;00m\n\u001b[1;32m     14\u001b[0m \u001b[38;5;28;01mglobal\u001b[39;00m script_path, data_path, logging_path\n",
      "File \u001b[0;32m~/Documents/shuying/ppi_mutation/scripts/utils.py:12\u001b[0m, in \u001b[0;36m<module>\u001b[0;34m\u001b[0m\n\u001b[1;32m      9\u001b[0m \u001b[38;5;28;01mfrom\u001b[39;00m \u001b[38;5;21;01mbs4\u001b[39;00m \u001b[38;5;28;01mimport\u001b[39;00m BeautifulSoup \u001b[38;5;28;01mas\u001b[39;00m BS\n\u001b[1;32m     10\u001b[0m \u001b[38;5;28;01mfrom\u001b[39;00m \u001b[38;5;21;01mloguru\u001b[39;00m \u001b[38;5;28;01mimport\u001b[39;00m logger\n\u001b[0;32m---> 12\u001b[0m \u001b[38;5;28;01mimport\u001b[39;00m \u001b[38;5;21;01mre\u001b[39;00m\n\u001b[1;32m     13\u001b[0m \u001b[38;5;28;01mimport\u001b[39;00m \u001b[38;5;21;01mpandas\u001b[39;00m \u001b[38;5;28;01mas\u001b[39;00m \u001b[38;5;21;01mpd\u001b[39;00m\n\u001b[1;32m     14\u001b[0m \u001b[38;5;28;01mfrom\u001b[39;00m \u001b[38;5;21;01mBio\u001b[39;00m\u001b[38;5;21;01m.\u001b[39;00m\u001b[38;5;21;01mSeqUtils\u001b[39;00m \u001b[38;5;28;01mimport\u001b[39;00m seq1\n",
      "\u001b[0;31mModuleNotFoundError\u001b[0m: No module named 'Bio'"
     ]
    }
   ],
   "source": [
    "# top_path = '/scratch/user/zshuying/ppi_mutation/scripts'\n",
    "# clinvar_path='/scratch/user/zshuying/ppi_mutation/data/clinvar/'\n",
    "# process_path='/scratch/user/zshuying/ppi_mutation/data/baseline1/processed/'\n",
    "\n",
    "top_path = '/home/grads/z/zshuying/Documents/shuying/ppi_mutation'\n",
    "clinvar_path='/home/grads/z/zshuying/Documents/shuying/ppi_mutation/data/clinvar/'\n",
    "process_path='/home/grads/z/zshuying/Documents/shuying/ppi_mutation/data/baseline1/processed/'\n",
    "import os, sys\n",
    "sys.path.append(top_path)\n",
    "# from scripts.baseline0.datasets import *\n",
    "# from scripts.baseline0.model import *\n",
    "from scripts.utils import *\n",
    "global top_path  # the path of the top_level directory\n",
    "global script_path, data_path, logging_path\n",
    "\n",
    "\n",
    "\n",
    "pj=os.path.join"
   ]
  },
  {
   "cell_type": "code",
   "execution_count": 4,
   "metadata": {
    "pycharm": {
     "name": "#%% actual ppi read from their directory\n"
    }
   },
   "outputs": [
    {
     "name": "stdout",
     "output_type": "stream",
     "text": [
      "[]\n",
      "[]\n"
     ]
    },
    {
     "data": {
      "text/plain": [
       "(0, 0)"
      ]
     },
     "execution_count": 4,
     "metadata": {},
     "output_type": "execute_result"
    }
   ],
   "source": [
    "huri_dir=os.path.join(data_path,'complexes/HuRI') #Ensembl pairs\n",
    "humap_dir=os.path.join(data_path,'complexes/pdb') #uniprot pairs\n",
    "huri_uniprot_pairs=convert_huri_ensembl_2_uniprot([x[0].split('/')[-1] for x in os.walk(huri_dir)])\n",
    "humap_uniprot_pairs=[x[0].split('/')[-1] for x in os.walk(humap_dir)]\n",
    "huri_uniprot_pairs=generate_set_of_pairs(huri_uniprot_pairs,if_self_included=False)\n",
    "humap_uniprot_pairs=generate_set_of_pairs(humap_uniprot_pairs,if_self_included=False)\n",
    "huri_humap_ppi=humap_uniprot_pairs.union(humap_uniprot_pairs)\n",
    "uniprots={name for pair in huri_humap_ppi for name in pair}\n",
    "\n",
    "len(huri_humap_ppi),len(uniprots)"
   ]
  },
  {
   "cell_type": "code",
   "execution_count": 4,
   "metadata": {
    "pycharm": {
     "name": "#%%\n"
    }
   },
   "outputs": [],
   "source": [
    "uniprots={name for pair in huri_humap_ppi for name in pair}\n"
   ]
  },
  {
   "cell_type": "code",
   "execution_count": 5,
   "metadata": {
    "pycharm": {
     "name": "#%%\n"
    }
   },
   "outputs": [
    {
     "data": {
      "text/plain": [
       "False"
      ]
     },
     "execution_count": 5,
     "metadata": {},
     "output_type": "execute_result"
    }
   ],
   "source": [
    "'P42356' in uniprots\n"
   ]
  },
  {
   "cell_type": "code",
   "execution_count": 6,
   "metadata": {
    "pycharm": {
     "name": "#%%\n"
    }
   },
   "outputs": [
    {
     "name": "stdout",
     "output_type": "stream",
     "text": [
      "huri\n",
      "huri length: 0\n",
      "humap\n",
      "humap length: 0\n"
     ]
    }
   ],
   "source": [
    "uniprots_2=get_uniprot_ids(['huri','humap'])\n",
    "\n"
   ]
  },
  {
   "cell_type": "code",
   "execution_count": 8,
   "metadata": {
    "pycharm": {
     "name": "#%%\n"
    }
   },
   "outputs": [
    {
     "data": {
      "text/plain": [
       "set()"
      ]
     },
     "execution_count": 8,
     "metadata": {},
     "output_type": "execute_result"
    }
   ],
   "source": [
    "uniprots"
   ]
  },
  {
   "cell_type": "code",
   "execution_count": 9,
   "metadata": {
    "pycharm": {
     "name": "#%%\n"
    }
   },
   "outputs": [
    {
     "data": {
      "text/plain": [
       "'/scratch/user/zshuying/ppi_mutation/data'"
      ]
     },
     "execution_count": 9,
     "metadata": {},
     "output_type": "execute_result"
    }
   ],
   "source": [
    "data_path"
   ]
  },
  {
   "cell_type": "code",
   "execution_count": null,
   "metadata": {
    "pycharm": {
     "name": "#%%\n"
    }
   },
   "outputs": [],
   "source": []
  }
 ],
 "metadata": {
  "kernelspec": {
   "display_name": "Python [conda env:.conda-gnn] *",
   "language": "python",
   "name": "conda-env-.conda-gnn-py"
  },
  "language_info": {
   "codemirror_mode": {
    "name": "ipython",
    "version": 3
   },
   "file_extension": ".py",
   "mimetype": "text/x-python",
   "name": "python",
   "nbconvert_exporter": "python",
   "pygments_lexer": "ipython3",
   "version": "3.10.13"
  }
 },
 "nbformat": 4,
 "nbformat_minor": 1
}
