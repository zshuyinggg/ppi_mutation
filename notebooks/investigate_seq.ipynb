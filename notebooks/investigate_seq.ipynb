{
 "cells": [
  {
   "cell_type": "code",
   "execution_count": 1,
   "metadata": {},
   "outputs": [],
   "source": [
    "import pandas as pd \n",
    "df=pd.read_csv('/scratch/user/zshuying/ppi_mutation/data/2019_1_sequences_terminated.csv')"
   ]
  },
  {
   "attachments": {},
   "cell_type": "markdown",
   "metadata": {},
   "source": [
    "# longest protein in current train/val delta set"
   ]
  },
  {
   "cell_type": "code",
   "execution_count": 8,
   "metadata": {},
   "outputs": [
    {
     "name": "stderr",
     "output_type": "stream",
     "text": [
      "/scratch/user/zshuying/.conda/envs/yuning/lib/python3.9/site-packages/tqdm/auto.py:22: TqdmWarning: IProgress not found. Please update jupyter and ipywidgets. See https://ipywidgets.readthedocs.io/en/stable/user_install.html\n",
      "  from .autonotebook import tqdm as notebook_tqdm\n"
     ]
    }
   ],
   "source": [
    "import os, sys\n",
    "global top_path  # the path of the top_level directory\n",
    "global script_path, data_path, logging_path\n",
    "top_path = '/scratch/user/zshuying/ppi_mutation'\n",
    "sys.path.append(top_path)\n",
    "from scripts.myesm.model import*\n",
    "from scripts.myesm.datasets import *"
   ]
  },
  {
   "cell_type": "code",
   "execution_count": 10,
   "metadata": {},
   "outputs": [
    {
     "name": "stdout",
     "output_type": "stream",
     "text": [
      "Reading file\n",
      "nan removed\n",
      "count    13769.000000\n",
      "mean         0.648123\n",
      "std          0.477573\n",
      "min          0.000000\n",
      "25%          0.000000\n",
      "50%          1.000000\n",
      "75%          1.000000\n",
      "max          1.000000\n",
      "Name: Label, dtype: float64\n",
      "Split dataset into train, val with the rate of 0.8\n",
      "Splitting training set by length\n",
      "=======================\n",
      "Discarded 1809 sequences which are longer than 1500\n",
      "short dataset cut to length between 0 and 512\n",
      "sequences count = 4196\n",
      "----------------------------------------------\n",
      "medium dataset cut to length between 512 and 1028\n",
      "sequences count = 3746\n",
      "----------------------------------------------\n",
      "long dataset cut to length between 1028 and 1500\n",
      "sequences count = 1264\n",
      "----------------------------------------------\n",
      "Splitting validation set by length\n",
      "=======================\n",
      "Discarded 454 sequences which are longer than 1500\n",
      "short dataset cut to length between 0 and 512\n",
      "sequences count = 1033\n",
      "----------------------------------------------\n",
      "medium dataset cut to length between 512 and 1028\n",
      "sequences count = 884\n",
      "----------------------------------------------\n",
      "long dataset cut to length between 1028 and 1500\n",
      "sequences count = 383\n",
      "----------------------------------------------\n"
     ]
    }
   ],
   "source": [
    "proData=ProteinDataModule(train_val_ratio=0.8,low=0,medium=512,high=1028,veryhigh=1500,discard=True,num_devices=1,num_nodes=1,delta=True,bs_short=2,bs_medium=1)"
   ]
  },
  {
   "cell_type": "code",
   "execution_count": 15,
   "metadata": {},
   "outputs": [],
   "source": [
    "a=proData.dataset.all_sequences.Seq.str.len()<1500"
   ]
  },
  {
   "cell_type": "code",
   "execution_count": 17,
   "metadata": {},
   "outputs": [
    {
     "data": {
      "text/plain": [
       "1498"
      ]
     },
     "execution_count": 17,
     "metadata": {},
     "output_type": "execute_result"
    }
   ],
   "source": [
    "esm_model, alphabet=esm.pretrained.esm2_t36_3B_UR50D()\n",
    "batch_converter=alphabet.get_batch_converter()\n",
    "_, _, batch_tokens=batch_converter(batch_sample)\n",
    "batch_tokens=batch_tokens.to(self.device)\n",
    "if batch_tokens.shape[1]>512:batch_tokens=batch_tokens[:,:512] #TODO random crop\n",
    "# batch_labels=torch.stack(batch_labels)\n",
    "batch_lens = (batch_tokens != self.alphabet.padding_idx).sum(1)\n",
    "results = self.esm_model(batch_tokens, repr_layers=[self.repr_layers], return_contacts=False)\n",
    "token_representations = results[\"representations\"][self.repr_layers]\n",
    "del results\n",
    "sequence_representations = []\n",
    "for i, tokens_len in enumerate(batch_lens):\n",
    "    sequence_representations.append(token_representations[i, 1: tokens_len - 1].mean(0))\n",
    "del token_representations\n",
    "torch.cuda.empty_cache()\n",
    "sequence_representations=torch.stack(sequence_representations)\n",
    "del batch_lens,batch_tokens"
   ]
  },
  {
   "cell_type": "code",
   "execution_count": 20,
   "metadata": {},
   "outputs": [
    {
     "data": {
      "text/plain": [
       "538"
      ]
     },
     "execution_count": 20,
     "metadata": {},
     "output_type": "execute_result"
    }
   ],
   "source": [
    "len('MVPGVPGAVLTLCLWLAASSGCLAAGPGAAAARRLDESLSAGSVQRARCASRCLSLQITRISAFFQHFQNNGSLVWCQNHKQCSKCLEPCKESGDLRKHQCQSFCEPLFPKKSYECLTSCEFLKYILLVKQGDCPAPEKASGFAAACVESCEVDNECSGVKKCCSNGCGHTCQVPKTLYKGVPLKPRKELRFTELQSGQLEVKWSSKFNISIEPVIYVVQRRWNYGIHPSEDDATHWQTVAQTTDERVQLTDIRPSRWYQFRVAAVNVHGTRGFTAPSKHFRSSKDPSAPPAPANLRLANSTVNSDGSVTVTIVWDLPEEPDIPVHHYKVFWSWMVSSKSLVPTKKKRRKTTDGFQNSVILEKLQPDCDYVVELQAITYWGQTRLKSAKVSLHFTSTHATNNKEQLVKTRKGGIQTQLPFQRRRPTRPLEVGAPFYQDGQLQVKVYWKKTEDPTVNRYHVRWFPEACAHNRTTGSEASSGMTHENYIILQDLSFSCKYKVTVQPIRPKSHSKAEAVFFTTPPCSALKGKSHKPVGCLG')"
   ]
  },
  {
   "attachments": {},
   "cell_type": "markdown",
   "metadata": {},
   "source": [
    "# proteins which does not have mutation but is in ppi"
   ]
  },
  {
   "attachments": {},
   "cell_type": "markdown",
   "metadata": {},
   "source": [
    "# merge Label and label and discard empty"
   ]
  },
  {
   "cell_type": "code",
   "execution_count": 12,
   "metadata": {},
   "outputs": [],
   "source": [
    "df.loc[df['Label'].isna(),'Label']=df['label']"
   ]
  },
  {
   "cell_type": "code",
   "execution_count": 25,
   "metadata": {},
   "outputs": [],
   "source": [
    "df=df.dropna(subset='Label')\n",
    "df=df.loc[:,['#AlleleID','Label','UniProt','Name','Seq']]"
   ]
  },
  {
   "attachments": {},
   "cell_type": "markdown",
   "metadata": {},
   "source": [
    "# deal with Seq"
   ]
  },
  {
   "cell_type": "code",
   "execution_count": 3,
   "metadata": {},
   "outputs": [
    {
     "ename": "KeyError",
     "evalue": "False",
     "output_type": "error",
     "traceback": [
      "\u001b[0;31m---------------------------------------------------------------------------\u001b[0m",
      "\u001b[0;31mKeyError\u001b[0m                                  Traceback (most recent call last)",
      "File \u001b[0;32m/scratch/user/zshuying/.conda/envs/yuning/lib/python3.9/site-packages/pandas/core/indexes/base.py:3652\u001b[0m, in \u001b[0;36mIndex.get_loc\u001b[0;34m(self, key)\u001b[0m\n\u001b[1;32m   3651\u001b[0m \u001b[39mtry\u001b[39;00m:\n\u001b[0;32m-> 3652\u001b[0m     \u001b[39mreturn\u001b[39;00m \u001b[39mself\u001b[39;49m\u001b[39m.\u001b[39;49m_engine\u001b[39m.\u001b[39;49mget_loc(casted_key)\n\u001b[1;32m   3653\u001b[0m \u001b[39mexcept\u001b[39;00m \u001b[39mKeyError\u001b[39;00m \u001b[39mas\u001b[39;00m err:\n",
      "File \u001b[0;32m/scratch/user/zshuying/.conda/envs/yuning/lib/python3.9/site-packages/pandas/_libs/index.pyx:147\u001b[0m, in \u001b[0;36mpandas._libs.index.IndexEngine.get_loc\u001b[0;34m()\u001b[0m\n",
      "File \u001b[0;32m/scratch/user/zshuying/.conda/envs/yuning/lib/python3.9/site-packages/pandas/_libs/index.pyx:176\u001b[0m, in \u001b[0;36mpandas._libs.index.IndexEngine.get_loc\u001b[0;34m()\u001b[0m\n",
      "File \u001b[0;32mpandas/_libs/hashtable_class_helper.pxi:7080\u001b[0m, in \u001b[0;36mpandas._libs.hashtable.PyObjectHashTable.get_item\u001b[0;34m()\u001b[0m\n",
      "File \u001b[0;32mpandas/_libs/hashtable_class_helper.pxi:7088\u001b[0m, in \u001b[0;36mpandas._libs.hashtable.PyObjectHashTable.get_item\u001b[0;34m()\u001b[0m\n",
      "\u001b[0;31mKeyError\u001b[0m: False",
      "\nThe above exception was the direct cause of the following exception:\n",
      "\u001b[0;31mKeyError\u001b[0m                                  Traceback (most recent call last)",
      "Cell \u001b[0;32mIn[3], line 1\u001b[0m\n\u001b[0;32m----> 1\u001b[0m df[df[\u001b[39m'\u001b[39;49m\u001b[39mSeq\u001b[39;49m\u001b[39m'\u001b[39;49m] \u001b[39mis\u001b[39;49;00m \u001b[39mNone\u001b[39;49;00m]\n",
      "File \u001b[0;32m/scratch/user/zshuying/.conda/envs/yuning/lib/python3.9/site-packages/pandas/core/frame.py:3761\u001b[0m, in \u001b[0;36mDataFrame.__getitem__\u001b[0;34m(self, key)\u001b[0m\n\u001b[1;32m   3759\u001b[0m \u001b[39mif\u001b[39;00m \u001b[39mself\u001b[39m\u001b[39m.\u001b[39mcolumns\u001b[39m.\u001b[39mnlevels \u001b[39m>\u001b[39m \u001b[39m1\u001b[39m:\n\u001b[1;32m   3760\u001b[0m     \u001b[39mreturn\u001b[39;00m \u001b[39mself\u001b[39m\u001b[39m.\u001b[39m_getitem_multilevel(key)\n\u001b[0;32m-> 3761\u001b[0m indexer \u001b[39m=\u001b[39m \u001b[39mself\u001b[39;49m\u001b[39m.\u001b[39;49mcolumns\u001b[39m.\u001b[39;49mget_loc(key)\n\u001b[1;32m   3762\u001b[0m \u001b[39mif\u001b[39;00m is_integer(indexer):\n\u001b[1;32m   3763\u001b[0m     indexer \u001b[39m=\u001b[39m [indexer]\n",
      "File \u001b[0;32m/scratch/user/zshuying/.conda/envs/yuning/lib/python3.9/site-packages/pandas/core/indexes/base.py:3654\u001b[0m, in \u001b[0;36mIndex.get_loc\u001b[0;34m(self, key)\u001b[0m\n\u001b[1;32m   3652\u001b[0m     \u001b[39mreturn\u001b[39;00m \u001b[39mself\u001b[39m\u001b[39m.\u001b[39m_engine\u001b[39m.\u001b[39mget_loc(casted_key)\n\u001b[1;32m   3653\u001b[0m \u001b[39mexcept\u001b[39;00m \u001b[39mKeyError\u001b[39;00m \u001b[39mas\u001b[39;00m err:\n\u001b[0;32m-> 3654\u001b[0m     \u001b[39mraise\u001b[39;00m \u001b[39mKeyError\u001b[39;00m(key) \u001b[39mfrom\u001b[39;00m \u001b[39merr\u001b[39;00m\n\u001b[1;32m   3655\u001b[0m \u001b[39mexcept\u001b[39;00m \u001b[39mTypeError\u001b[39;00m:\n\u001b[1;32m   3656\u001b[0m     \u001b[39m# If we have a listlike key, _check_indexing_error will raise\u001b[39;00m\n\u001b[1;32m   3657\u001b[0m     \u001b[39m#  InvalidIndexError. Otherwise we fall through and re-raise\u001b[39;00m\n\u001b[1;32m   3658\u001b[0m     \u001b[39m#  the TypeError.\u001b[39;00m\n\u001b[1;32m   3659\u001b[0m     \u001b[39mself\u001b[39m\u001b[39m.\u001b[39m_check_indexing_error(key)\n",
      "\u001b[0;31mKeyError\u001b[0m: False"
     ]
    }
   ],
   "source": [
    "df[df['Seq'] is None]\n",
    "\n"
   ]
  },
  {
   "cell_type": "code",
   "execution_count": 6,
   "metadata": {},
   "outputs": [],
   "source": [
    "df['Seq']=df['Seq'].replace(['NaN', 'None', ''], float('nan'))\n"
   ]
  },
  {
   "cell_type": "code",
   "execution_count": 9,
   "metadata": {},
   "outputs": [
    {
     "data": {
      "text/plain": [
       "False"
      ]
     },
     "execution_count": 9,
     "metadata": {},
     "output_type": "execute_result"
    }
   ],
   "source": [
    "True in df['Seq'].isna()"
   ]
  },
  {
   "cell_type": "code",
   "execution_count": 30,
   "metadata": {},
   "outputs": [],
   "source": [
    "df['Seq']=df['Seq'].apply(lambda x: x.split('*')[0] if '*' in x else x)\n"
   ]
  },
  {
   "cell_type": "code",
   "execution_count": 32,
   "metadata": {},
   "outputs": [],
   "source": [
    "df.to_csv('2019_1_sequences_terminated.csv')"
   ]
  },
  {
   "cell_type": "code",
   "execution_count": null,
   "metadata": {},
   "outputs": [
    {
     "ename": "",
     "evalue": "",
     "output_type": "error",
     "traceback": [
      "\u001b[1;31mFailed to start the Kernel. \n",
      "\u001b[1;31mThe Jupyter notebook server failed to launch in time. \n",
      "\u001b[1;31mView Jupyter <a href='command:jupyter.viewOutput'>log</a> for further details."
     ]
    }
   ],
   "source": [
    "df['Len']=df['Seq'].apply(lambda x: len(x))"
   ]
  },
  {
   "cell_type": "code",
   "execution_count": null,
   "metadata": {},
   "outputs": [],
   "source": []
  }
 ],
 "metadata": {
  "kernelspec": {
   "display_name": "shuying",
   "language": "python",
   "name": "python3"
  },
  "language_info": {
   "codemirror_mode": {
    "name": "ipython",
    "version": 3
   },
   "file_extension": ".py",
   "mimetype": "text/x-python",
   "name": "python",
   "nbconvert_exporter": "python",
   "pygments_lexer": "ipython3",
   "version": "3.9.13"
  },
  "orig_nbformat": 4
 },
 "nbformat": 4,
 "nbformat_minor": 2
}
