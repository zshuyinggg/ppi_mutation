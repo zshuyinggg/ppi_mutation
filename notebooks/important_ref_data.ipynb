{
 "cells": [
  {
   "cell_type": "code",
   "execution_count": 2,
   "metadata": {
    "collapsed": true
   },
   "outputs": [],
   "source": [
    "top_path = '/scratch/user/zshuying/ppi_mutation/scripts'\n",
    "clinvar_path='/scratch/user/zshuying/ppi_mutation/data/clinvar/'\n",
    "process_path='/scratch/user/zshuying/ppi_mutation/data/baseline1/processed/'\n",
    "import torch\n",
    "from sklearn.decomposition import PCA\n",
    "from torch.utils.data import Dataset\n",
    "import os, sys\n",
    "sys.path.append(top_path)\n",
    "from torch.utils.data import DataLoader\n",
    "import esm\n",
    "from baseline0.datasets import *\n",
    "import numpy as np\n",
    "from argparse import ArgumentParser\n",
    "from lightning.pytorch.callbacks.early_stopping import EarlyStopping\n",
    "from baseline0.model import *\n",
    "from utils import *\n",
    "import pandas as pd\n",
    "from sklearn.decomposition import PCA\n",
    "import umap\n",
    "import matplotlib.pyplot as plt\n",
    "global top_path  # the path of the top_level directory\n",
    "global script_path, data_path, logging_path\n",
    "\n",
    "\n",
    "\n",
    "pj=os.path.join"
   ]
  },
  {
   "cell_type": "code",
   "execution_count": 3,
   "outputs": [],
   "source": [
    "huri_dir=os.path.join(data_path,'complexes/HuRI') #Ensembl pairs\n",
    "humap_dir=os.path.join(data_path,'complexes/pdb') #uniprot pairs\n",
    "huri_uniprot_pairs=convert_huri_ensembl_2_uniprot([x[0].split('/')[-1] for x in os.walk(huri_dir)])\n",
    "humap_uniprot_pairs=[x[0].split('/')[-1] for x in os.walk(humap_dir)]\n",
    "\n",
    "huri_humap_ppi=set(humap_uniprot_pairs+humap_uniprot_pairs)"
   ],
   "metadata": {
    "collapsed": false,
    "pycharm": {
     "name": "#%% actual ppi read from their directory\n"
    }
   }
  },
  {
   "cell_type": "code",
   "execution_count": 4,
   "outputs": [],
   "source": [
    "uniprots={name for pair in huri_humap_ppi for name in pair}\n"
   ],
   "metadata": {
    "collapsed": false,
    "pycharm": {
     "name": "#%%\n"
    }
   }
  },
  {
   "cell_type": "code",
   "execution_count": 5,
   "outputs": [
    {
     "data": {
      "text/plain": "False"
     },
     "execution_count": 5,
     "metadata": {},
     "output_type": "execute_result"
    }
   ],
   "source": [
    "'P42356' in uniprots\n"
   ],
   "metadata": {
    "collapsed": false,
    "pycharm": {
     "name": "#%%\n"
    }
   }
  },
  {
   "cell_type": "code",
   "execution_count": 6,
   "outputs": [
    {
     "name": "stdout",
     "output_type": "stream",
     "text": [
      "huri\n",
      "huri length: 0\n",
      "humap\n",
      "humap length: 0\n"
     ]
    }
   ],
   "source": [
    "uniprots_2=get_uniprot_ids(['huri','humap'])\n",
    "\n"
   ],
   "metadata": {
    "collapsed": false,
    "pycharm": {
     "name": "#%%\n"
    }
   }
  },
  {
   "cell_type": "code",
   "execution_count": 8,
   "outputs": [
    {
     "data": {
      "text/plain": "set()"
     },
     "execution_count": 8,
     "metadata": {},
     "output_type": "execute_result"
    }
   ],
   "source": [
    "uniprots"
   ],
   "metadata": {
    "collapsed": false,
    "pycharm": {
     "name": "#%%\n"
    }
   }
  },
  {
   "cell_type": "code",
   "execution_count": 9,
   "outputs": [
    {
     "data": {
      "text/plain": "'/scratch/user/zshuying/ppi_mutation/data'"
     },
     "execution_count": 9,
     "metadata": {},
     "output_type": "execute_result"
    }
   ],
   "source": [
    "data_path"
   ],
   "metadata": {
    "collapsed": false,
    "pycharm": {
     "name": "#%%\n"
    }
   }
  },
  {
   "cell_type": "code",
   "execution_count": null,
   "outputs": [],
   "source": [],
   "metadata": {
    "collapsed": false,
    "pycharm": {
     "name": "#%%\n"
    }
   }
  }
 ],
 "metadata": {
  "kernelspec": {
   "display_name": "Python 3",
   "language": "python",
   "name": "python3"
  },
  "language_info": {
   "codemirror_mode": {
    "name": "ipython",
    "version": 2
   },
   "file_extension": ".py",
   "mimetype": "text/x-python",
   "name": "python",
   "nbconvert_exporter": "python",
   "pygments_lexer": "ipython2",
   "version": "2.7.6"
  }
 },
 "nbformat": 4,
 "nbformat_minor": 0
}